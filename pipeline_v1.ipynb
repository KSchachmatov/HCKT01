{
 "cells": [
  {
   "cell_type": "markdown",
   "metadata": {},
   "source": [
    "# Import packages"
   ]
  },
  {
   "cell_type": "code",
   "execution_count": 1,
   "metadata": {},
   "outputs": [],
   "source": [
    "import pandas as pd\n",
    "import matplotlib.pyplot as plt\n",
    "import numpy as np\n",
    "import datetime\n",
    "\n",
    "from sklearn.pipeline import make_pipeline\n",
    "from sklearn.model_selection import train_test_split\n",
    "from sklearn.impute import SimpleImputer\n",
    "from sklearn.model_selection import cross_val_score\n",
    "from sklearn.tree import DecisionTreeClassifier\n",
    "from sklearn.metrics import confusion_matrix\n",
    "from sklearn.metrics import accuracy_score, precision_score, recall_score\n",
    "\n"
   ]
  },
  {
   "cell_type": "markdown",
   "metadata": {},
   "source": [
    "# 1. Get the data"
   ]
  },
  {
   "cell_type": "code",
   "execution_count": 2,
   "metadata": {},
   "outputs": [],
   "source": [
    "# import train data\n",
    "df_train = pd.read_csv(\"data/train.csv\")\n",
    "\n",
    "# import test data\n",
    "df_test = pd.read_csv(\"data/test.csv\")"
   ]
  },
  {
   "cell_type": "markdown",
   "metadata": {},
   "source": [
    "# 2. EDA & Data Preparation"
   ]
  },
  {
   "cell_type": "markdown",
   "metadata": {},
   "source": [
    "## 2.1. Data Analysis"
   ]
  },
  {
   "cell_type": "code",
   "execution_count": 243,
   "metadata": {},
   "outputs": [
    {
     "data": {
      "text/html": [
       "<div>\n",
       "<style scoped>\n",
       "    .dataframe tbody tr th:only-of-type {\n",
       "        vertical-align: middle;\n",
       "    }\n",
       "\n",
       "    .dataframe tbody tr th {\n",
       "        vertical-align: top;\n",
       "    }\n",
       "\n",
       "    .dataframe thead th {\n",
       "        text-align: right;\n",
       "    }\n",
       "</style>\n",
       "<table border=\"1\" class=\"dataframe\">\n",
       "  <thead>\n",
       "    <tr style=\"text-align: right;\">\n",
       "      <th></th>\n",
       "      <th>ID</th>\n",
       "      <th>DATE_DEPARTURE_UTC</th>\n",
       "      <th>DATE_ARRIVAL_UTC</th>\n",
       "      <th>DATE_DEPARTURE_LCL</th>\n",
       "      <th>DATE_ARRIVAL_LCL</th>\n",
       "      <th>ORIGIN</th>\n",
       "      <th>ORIGIN_AIRPORT_ID</th>\n",
       "      <th>DEST</th>\n",
       "      <th>DEST_AIRPORT_ID</th>\n",
       "      <th>TAIL_NUM</th>\n",
       "      <th>OP_CARRIER</th>\n",
       "      <th>OP_CARRIER_AIRLINE_ID</th>\n",
       "      <th>OP_CARRIER_FL_NUM</th>\n",
       "      <th>DISTANCE</th>\n",
       "      <th>CANCELLED</th>\n",
       "      <th>DEP_DEL15</th>\n",
       "      <th>ARR_DEL15</th>\n",
       "    </tr>\n",
       "  </thead>\n",
       "  <tbody>\n",
       "    <tr>\n",
       "      <th>0</th>\n",
       "      <td>345355</td>\n",
       "      <td>2020-01-18 22:10:00</td>\n",
       "      <td>2020-01-18 23:59:00</td>\n",
       "      <td>2020-01-18 15:10:00</td>\n",
       "      <td>2020-01-18 15:59:00</td>\n",
       "      <td>SLC</td>\n",
       "      <td>14869</td>\n",
       "      <td>SNA</td>\n",
       "      <td>14908</td>\n",
       "      <td>N128DU</td>\n",
       "      <td>DL</td>\n",
       "      <td>19790</td>\n",
       "      <td>1056</td>\n",
       "      <td>588.0</td>\n",
       "      <td>0</td>\n",
       "      <td>0.0</td>\n",
       "      <td>0</td>\n",
       "    </tr>\n",
       "    <tr>\n",
       "      <th>1</th>\n",
       "      <td>323447</td>\n",
       "      <td>2020-01-17 21:47:00</td>\n",
       "      <td>2020-01-18 04:10:00</td>\n",
       "      <td>2020-01-17 16:47:00</td>\n",
       "      <td>2020-01-17 20:10:00</td>\n",
       "      <td>BOS</td>\n",
       "      <td>10721</td>\n",
       "      <td>SEA</td>\n",
       "      <td>14747</td>\n",
       "      <td>N486AS</td>\n",
       "      <td>AS</td>\n",
       "      <td>19930</td>\n",
       "      <td>15</td>\n",
       "      <td>2496.0</td>\n",
       "      <td>0</td>\n",
       "      <td>NaN</td>\n",
       "      <td>0</td>\n",
       "    </tr>\n",
       "    <tr>\n",
       "      <th>2</th>\n",
       "      <td>242237</td>\n",
       "      <td>2020-01-13 13:26:00</td>\n",
       "      <td>2020-01-13 14:26:00</td>\n",
       "      <td>2020-01-13 07:26:00</td>\n",
       "      <td>2020-01-13 08:26:00</td>\n",
       "      <td>DAL</td>\n",
       "      <td>11259</td>\n",
       "      <td>HOU</td>\n",
       "      <td>12191</td>\n",
       "      <td>N901WN</td>\n",
       "      <td>WN</td>\n",
       "      <td>19393</td>\n",
       "      <td>3</td>\n",
       "      <td>239.0</td>\n",
       "      <td>0</td>\n",
       "      <td>NaN</td>\n",
       "      <td>0</td>\n",
       "    </tr>\n",
       "    <tr>\n",
       "      <th>3</th>\n",
       "      <td>271408</td>\n",
       "      <td>2020-01-15 02:45:00</td>\n",
       "      <td>2020-01-15 03:37:00</td>\n",
       "      <td>2020-01-14 20:45:00</td>\n",
       "      <td>2020-01-14 21:37:00</td>\n",
       "      <td>STL</td>\n",
       "      <td>15016</td>\n",
       "      <td>DSM</td>\n",
       "      <td>11423</td>\n",
       "      <td>N778SW</td>\n",
       "      <td>WN</td>\n",
       "      <td>19393</td>\n",
       "      <td>1588</td>\n",
       "      <td>259.0</td>\n",
       "      <td>0</td>\n",
       "      <td>0.0</td>\n",
       "      <td>0</td>\n",
       "    </tr>\n",
       "    <tr>\n",
       "      <th>4</th>\n",
       "      <td>282447</td>\n",
       "      <td>2020-01-15 23:22:00</td>\n",
       "      <td>2020-01-16 00:49:00</td>\n",
       "      <td>2020-01-15 18:22:00</td>\n",
       "      <td>2020-01-15 19:49:00</td>\n",
       "      <td>CLT</td>\n",
       "      <td>11057</td>\n",
       "      <td>CHS</td>\n",
       "      <td>10994</td>\n",
       "      <td>N579NN</td>\n",
       "      <td>OH</td>\n",
       "      <td>20397</td>\n",
       "      <td>5207</td>\n",
       "      <td>168.0</td>\n",
       "      <td>0</td>\n",
       "      <td>NaN</td>\n",
       "      <td>1</td>\n",
       "    </tr>\n",
       "  </tbody>\n",
       "</table>\n",
       "</div>"
      ],
      "text/plain": [
       "       ID   DATE_DEPARTURE_UTC     DATE_ARRIVAL_UTC   DATE_DEPARTURE_LCL  \\\n",
       "0  345355  2020-01-18 22:10:00  2020-01-18 23:59:00  2020-01-18 15:10:00   \n",
       "1  323447  2020-01-17 21:47:00  2020-01-18 04:10:00  2020-01-17 16:47:00   \n",
       "2  242237  2020-01-13 13:26:00  2020-01-13 14:26:00  2020-01-13 07:26:00   \n",
       "3  271408  2020-01-15 02:45:00  2020-01-15 03:37:00  2020-01-14 20:45:00   \n",
       "4  282447  2020-01-15 23:22:00  2020-01-16 00:49:00  2020-01-15 18:22:00   \n",
       "\n",
       "      DATE_ARRIVAL_LCL ORIGIN  ORIGIN_AIRPORT_ID DEST  DEST_AIRPORT_ID  \\\n",
       "0  2020-01-18 15:59:00    SLC              14869  SNA            14908   \n",
       "1  2020-01-17 20:10:00    BOS              10721  SEA            14747   \n",
       "2  2020-01-13 08:26:00    DAL              11259  HOU            12191   \n",
       "3  2020-01-14 21:37:00    STL              15016  DSM            11423   \n",
       "4  2020-01-15 19:49:00    CLT              11057  CHS            10994   \n",
       "\n",
       "  TAIL_NUM OP_CARRIER  OP_CARRIER_AIRLINE_ID  OP_CARRIER_FL_NUM  DISTANCE  \\\n",
       "0   N128DU         DL                  19790               1056     588.0   \n",
       "1   N486AS         AS                  19930                 15    2496.0   \n",
       "2   N901WN         WN                  19393                  3     239.0   \n",
       "3   N778SW         WN                  19393               1588     259.0   \n",
       "4   N579NN         OH                  20397               5207     168.0   \n",
       "\n",
       "   CANCELLED  DEP_DEL15  ARR_DEL15  \n",
       "0          0        0.0          0  \n",
       "1          0        NaN          0  \n",
       "2          0        NaN          0  \n",
       "3          0        0.0          0  \n",
       "4          0        NaN          1  "
      ]
     },
     "execution_count": 243,
     "metadata": {},
     "output_type": "execute_result"
    }
   ],
   "source": [
    "df_train.head()"
   ]
  },
  {
   "cell_type": "code",
   "execution_count": 244,
   "metadata": {},
   "outputs": [
    {
     "data": {
      "text/html": [
       "<div>\n",
       "<style scoped>\n",
       "    .dataframe tbody tr th:only-of-type {\n",
       "        vertical-align: middle;\n",
       "    }\n",
       "\n",
       "    .dataframe tbody tr th {\n",
       "        vertical-align: top;\n",
       "    }\n",
       "\n",
       "    .dataframe thead th {\n",
       "        text-align: right;\n",
       "    }\n",
       "</style>\n",
       "<table border=\"1\" class=\"dataframe\">\n",
       "  <thead>\n",
       "    <tr style=\"text-align: right;\">\n",
       "      <th></th>\n",
       "      <th>ID</th>\n",
       "      <th>DATE_DEPARTURE_UTC</th>\n",
       "      <th>DATE_ARRIVAL_UTC</th>\n",
       "      <th>DATE_DEPARTURE_LCL</th>\n",
       "      <th>DATE_ARRIVAL_LCL</th>\n",
       "      <th>ORIGIN</th>\n",
       "      <th>ORIGIN_AIRPORT_ID</th>\n",
       "      <th>DEST</th>\n",
       "      <th>DEST_AIRPORT_ID</th>\n",
       "      <th>TAIL_NUM</th>\n",
       "      <th>OP_CARRIER</th>\n",
       "      <th>OP_CARRIER_AIRLINE_ID</th>\n",
       "      <th>OP_CARRIER_FL_NUM</th>\n",
       "      <th>DISTANCE</th>\n",
       "      <th>CANCELLED</th>\n",
       "      <th>DEP_DEL15</th>\n",
       "    </tr>\n",
       "  </thead>\n",
       "  <tbody>\n",
       "    <tr>\n",
       "      <th>0</th>\n",
       "      <td>425552</td>\n",
       "      <td>2020-01-23 01:26:00</td>\n",
       "      <td>2020-01-23 02:52:00</td>\n",
       "      <td>2020-01-22 20:26:00</td>\n",
       "      <td>2020-01-22 21:52:00</td>\n",
       "      <td>LGA</td>\n",
       "      <td>12953</td>\n",
       "      <td>BGR</td>\n",
       "      <td>10581</td>\n",
       "      <td>N8894A</td>\n",
       "      <td>9E</td>\n",
       "      <td>20363</td>\n",
       "      <td>5032</td>\n",
       "      <td>378.0</td>\n",
       "      <td>0</td>\n",
       "      <td>NaN</td>\n",
       "    </tr>\n",
       "    <tr>\n",
       "      <th>1</th>\n",
       "      <td>415418</td>\n",
       "      <td>2020-01-23 01:26:00</td>\n",
       "      <td>2020-01-23 03:04:00</td>\n",
       "      <td>2020-01-22 19:26:00</td>\n",
       "      <td>2020-01-22 22:04:00</td>\n",
       "      <td>MDW</td>\n",
       "      <td>13232</td>\n",
       "      <td>PHL</td>\n",
       "      <td>14100</td>\n",
       "      <td>N8615E</td>\n",
       "      <td>WN</td>\n",
       "      <td>19393</td>\n",
       "      <td>1168</td>\n",
       "      <td>668.0</td>\n",
       "      <td>0</td>\n",
       "      <td>NaN</td>\n",
       "    </tr>\n",
       "    <tr>\n",
       "      <th>2</th>\n",
       "      <td>414222</td>\n",
       "      <td>2020-01-23 01:26:00</td>\n",
       "      <td>2020-01-23 03:06:00</td>\n",
       "      <td>2020-01-22 18:26:00</td>\n",
       "      <td>2020-01-22 19:06:00</td>\n",
       "      <td>DEN</td>\n",
       "      <td>11292</td>\n",
       "      <td>LAS</td>\n",
       "      <td>12889</td>\n",
       "      <td>N7853B</td>\n",
       "      <td>WN</td>\n",
       "      <td>19393</td>\n",
       "      <td>799</td>\n",
       "      <td>628.0</td>\n",
       "      <td>0</td>\n",
       "      <td>NaN</td>\n",
       "    </tr>\n",
       "    <tr>\n",
       "      <th>3</th>\n",
       "      <td>421432</td>\n",
       "      <td>2020-01-23 01:26:00</td>\n",
       "      <td>2020-01-23 02:48:00</td>\n",
       "      <td>2020-01-22 17:26:00</td>\n",
       "      <td>2020-01-22 18:48:00</td>\n",
       "      <td>SJC</td>\n",
       "      <td>14831</td>\n",
       "      <td>SAN</td>\n",
       "      <td>14679</td>\n",
       "      <td>N7812G</td>\n",
       "      <td>WN</td>\n",
       "      <td>19393</td>\n",
       "      <td>4454</td>\n",
       "      <td>417.0</td>\n",
       "      <td>0</td>\n",
       "      <td>0.0</td>\n",
       "    </tr>\n",
       "    <tr>\n",
       "      <th>4</th>\n",
       "      <td>421356</td>\n",
       "      <td>2020-01-23 01:26:00</td>\n",
       "      <td>2020-01-23 02:24:00</td>\n",
       "      <td>2020-01-22 17:26:00</td>\n",
       "      <td>2020-01-22 18:24:00</td>\n",
       "      <td>SJC</td>\n",
       "      <td>14831</td>\n",
       "      <td>BUR</td>\n",
       "      <td>10800</td>\n",
       "      <td>N7859B</td>\n",
       "      <td>WN</td>\n",
       "      <td>19393</td>\n",
       "      <td>2024</td>\n",
       "      <td>296.0</td>\n",
       "      <td>0</td>\n",
       "      <td>NaN</td>\n",
       "    </tr>\n",
       "  </tbody>\n",
       "</table>\n",
       "</div>"
      ],
      "text/plain": [
       "       ID   DATE_DEPARTURE_UTC     DATE_ARRIVAL_UTC   DATE_DEPARTURE_LCL  \\\n",
       "0  425552  2020-01-23 01:26:00  2020-01-23 02:52:00  2020-01-22 20:26:00   \n",
       "1  415418  2020-01-23 01:26:00  2020-01-23 03:04:00  2020-01-22 19:26:00   \n",
       "2  414222  2020-01-23 01:26:00  2020-01-23 03:06:00  2020-01-22 18:26:00   \n",
       "3  421432  2020-01-23 01:26:00  2020-01-23 02:48:00  2020-01-22 17:26:00   \n",
       "4  421356  2020-01-23 01:26:00  2020-01-23 02:24:00  2020-01-22 17:26:00   \n",
       "\n",
       "      DATE_ARRIVAL_LCL ORIGIN  ORIGIN_AIRPORT_ID DEST  DEST_AIRPORT_ID  \\\n",
       "0  2020-01-22 21:52:00    LGA              12953  BGR            10581   \n",
       "1  2020-01-22 22:04:00    MDW              13232  PHL            14100   \n",
       "2  2020-01-22 19:06:00    DEN              11292  LAS            12889   \n",
       "3  2020-01-22 18:48:00    SJC              14831  SAN            14679   \n",
       "4  2020-01-22 18:24:00    SJC              14831  BUR            10800   \n",
       "\n",
       "  TAIL_NUM OP_CARRIER  OP_CARRIER_AIRLINE_ID  OP_CARRIER_FL_NUM  DISTANCE  \\\n",
       "0   N8894A         9E                  20363               5032     378.0   \n",
       "1   N8615E         WN                  19393               1168     668.0   \n",
       "2   N7853B         WN                  19393                799     628.0   \n",
       "3   N7812G         WN                  19393               4454     417.0   \n",
       "4   N7859B         WN                  19393               2024     296.0   \n",
       "\n",
       "   CANCELLED  DEP_DEL15  \n",
       "0          0        NaN  \n",
       "1          0        NaN  \n",
       "2          0        NaN  \n",
       "3          0        0.0  \n",
       "4          0        NaN  "
      ]
     },
     "execution_count": 244,
     "metadata": {},
     "output_type": "execute_result"
    }
   ],
   "source": [
    "df_test.head()"
   ]
  },
  {
   "cell_type": "markdown",
   "metadata": {},
   "source": []
  },
  {
   "cell_type": "code",
   "execution_count": 245,
   "metadata": {},
   "outputs": [
    {
     "data": {
      "text/plain": [
       "ID                         int64\n",
       "DATE_DEPARTURE_UTC        object\n",
       "DATE_ARRIVAL_UTC          object\n",
       "DATE_DEPARTURE_LCL        object\n",
       "DATE_ARRIVAL_LCL          object\n",
       "ORIGIN                    object\n",
       "ORIGIN_AIRPORT_ID          int64\n",
       "DEST                      object\n",
       "DEST_AIRPORT_ID            int64\n",
       "TAIL_NUM                  object\n",
       "OP_CARRIER                object\n",
       "OP_CARRIER_AIRLINE_ID      int64\n",
       "OP_CARRIER_FL_NUM          int64\n",
       "DISTANCE                 float64\n",
       "CANCELLED                  int64\n",
       "DEP_DEL15                float64\n",
       "ARR_DEL15                  int64\n",
       "dtype: object"
      ]
     },
     "execution_count": 245,
     "metadata": {},
     "output_type": "execute_result"
    }
   ],
   "source": [
    "df_train.dtypes"
   ]
  },
  {
   "cell_type": "code",
   "execution_count": null,
   "metadata": {},
   "outputs": [],
   "source": []
  },
  {
   "cell_type": "markdown",
   "metadata": {},
   "source": [
    "## 2.2. Preparation"
   ]
  },
  {
   "cell_type": "markdown",
   "metadata": {},
   "source": [
    "### Drop columns"
   ]
  },
  {
   "cell_type": "code",
   "execution_count": 3,
   "metadata": {},
   "outputs": [],
   "source": [
    "# drop variable 'CANCELLED' in test and train data\n",
    "columns = [\"CANCELLED\", \"ORIGIN_AIRPORT_ID\", \"DEST_AIRPORT_ID\", \"OP_CARRIER_AIRLINE_ID\"]\n",
    "df_train_adj = df_train.drop(columns, axis = 1)\n",
    "df_test_adj = df_test.drop(columns, axis = 1)"
   ]
  },
  {
   "cell_type": "markdown",
   "metadata": {},
   "source": [
    "## Set index "
   ]
  },
  {
   "cell_type": "code",
   "execution_count": 4,
   "metadata": {},
   "outputs": [],
   "source": [
    "df_train_adj = df_train_adj.set_index(\"ID\")\n",
    "df_test_adj = df_test_adj.set_index(\"ID\")"
   ]
  },
  {
   "cell_type": "code",
   "execution_count": 248,
   "metadata": {},
   "outputs": [
    {
     "data": {
      "text/plain": [
       "(179781, 11)"
      ]
     },
     "execution_count": 248,
     "metadata": {},
     "output_type": "execute_result"
    }
   ],
   "source": [
    "df_test_adj.shape"
   ]
  },
  {
   "cell_type": "markdown",
   "metadata": {},
   "source": [
    "### Replace DEP_DEL15"
   ]
  },
  {
   "cell_type": "code",
   "execution_count": 5,
   "metadata": {},
   "outputs": [],
   "source": [
    "# replace for the train data\n",
    "df_train_adj['Origin_Dest_Carrier'] = df_train_adj['ORIGIN'].str.cat(df_train_adj['DEST'], sep='_').str.cat(df_train_adj['OP_CARRIER'], sep='_')\n",
    "df_train_adj['DEP_DEL15'] = df_train_adj['DEP_DEL15'].fillna(df_train_adj.groupby('Origin_Dest_Carrier')['DEP_DEL15'].transform(\"mean\"))"
   ]
  },
  {
   "cell_type": "code",
   "execution_count": 6,
   "metadata": {},
   "outputs": [],
   "source": [
    "# replace for test\n",
    "df_test_adj['Origin_Dest_Carrier'] = df_test_adj['ORIGIN'].str.cat(df_test_adj['DEST'], sep='_').str.cat(df_test_adj['OP_CARRIER'], sep='_')\n",
    "df_test_adj['DEP_DEL15'] = df_test_adj['DEP_DEL15'].fillna(df_test_adj.groupby('Origin_Dest_Carrier')['DEP_DEL15'].transform(\"mean\"))"
   ]
  },
  {
   "cell_type": "code",
   "execution_count": 7,
   "metadata": {},
   "outputs": [],
   "source": [
    "# replace rest with mean\n",
    "df_train_adj['DEP_DEL15'] = df_train_adj['DEP_DEL15'].fillna(df_train_adj['DEP_DEL15'].mean())\n",
    "df_test_adj['DEP_DEL15'] = df_test_adj['DEP_DEL15'].fillna(df_train_adj['DEP_DEL15'].mean())"
   ]
  },
  {
   "cell_type": "markdown",
   "metadata": {},
   "source": [
    "### Replace DISTANCE"
   ]
  },
  {
   "cell_type": "code",
   "execution_count": 8,
   "metadata": {},
   "outputs": [],
   "source": [
    "df_train_adj['Origin_Dest'] = df_train_adj['ORIGIN'].str.cat(df_train_adj['DEST'], sep='_')\n",
    "df_train_adj['DISTANCE'] = df_train_adj['DISTANCE'].fillna(df_train_adj.groupby('Origin_Dest')['DISTANCE'].transform('mean'))"
   ]
  },
  {
   "cell_type": "code",
   "execution_count": 9,
   "metadata": {},
   "outputs": [],
   "source": [
    "df_test_adj['Origin_Dest'] = df_test_adj['ORIGIN'].str.cat(df_test_adj['DEST'], sep='_')\n",
    "df_test_adj['DISTANCE'] = df_test_adj['DISTANCE'].fillna(df_test_adj.groupby('Origin_Dest')['DISTANCE'].transform('mean'))"
   ]
  },
  {
   "cell_type": "code",
   "execution_count": 10,
   "metadata": {},
   "outputs": [],
   "source": [
    "df_train_adj['DISTANCE'] = df_train_adj['DISTANCE'].fillna(df_train_adj['DISTANCE'].mean())\n",
    "df_test_adj['DISTANCE'] = df_test_adj['DISTANCE'].fillna(df_train_adj['DISTANCE'].mean())"
   ]
  },
  {
   "cell_type": "markdown",
   "metadata": {},
   "source": [
    "### Encode cat variables"
   ]
  },
  {
   "cell_type": "code",
   "execution_count": 11,
   "metadata": {},
   "outputs": [],
   "source": [
    "# get value mappings\n",
    "origin_map = df_train_adj['ARR_DEL15'].groupby(df_train_adj['ORIGIN']).mean()\n",
    "dest_map = df_train_adj['ARR_DEL15'].groupby(df_train_adj['DEST']).mean()\n",
    "\n",
    "# get airline encoder\n",
    "import category_encoders as ce\n",
    "airline_encoder = ce.one_hot.OneHotEncoder(use_cat_names=True).fit(df_train[['OP_CARRIER']])"
   ]
  },
  {
   "cell_type": "code",
   "execution_count": 12,
   "metadata": {},
   "outputs": [],
   "source": [
    "def transform_categoricals(df, origin_map, dest_map):\n",
    "    # replace airport IDs by percent delayed\n",
    "    df['ORIGIN_PCT_DELAY'] = df['ORIGIN'].map(origin_map)\n",
    "    df['DEST_PCT_DELAY'] = df['DEST'].map(origin_map)\n",
    "    # transform dtypes\n",
    "    df[['OP_CARRIER']] = df[['OP_CARRIER']].astype('category')\n",
    "    # drop redundant columns\n",
    "    #df = df.drop(columns=['ORIGIN','DEST'])\n",
    "    # transform airline into dummies\n",
    "    df_airline_dummys = airline_encoder.transform(df['OP_CARRIER'])\n",
    "    #df = df.drop(columns=['OP_CARRIER'])\n",
    "    df = df.merge(df_airline_dummys, how='left', left_index=True, right_index=True)\n",
    "    \n",
    "    return df"
   ]
  },
  {
   "cell_type": "code",
   "execution_count": 13,
   "metadata": {},
   "outputs": [],
   "source": [
    "# transform datasets\n",
    "df_train_adj = transform_categoricals(df_train_adj, origin_map, dest_map)\n",
    "df_test_adj = transform_categoricals(df_test_adj, origin_map, dest_map)"
   ]
  },
  {
   "cell_type": "code",
   "execution_count": 14,
   "metadata": {},
   "outputs": [],
   "source": [
    "# cat variables\n",
    "cat_vars = [\"ORIGIN\", \"DEST\", \"OP_CARRIER\"]\n",
    "# set to cat codes\n",
    "df_train_adj[cat_vars] = df_train_adj[cat_vars].astype('category')\n",
    "df_test_adj[cat_vars] = df_test_adj[cat_vars].astype('category')\n",
    "\n",
    "for var in cat_vars:\n",
    "    df_train_adj[var] = df_train_adj[var].cat.codes\n",
    "    \n",
    "for var in cat_vars:\n",
    "    df_test_adj[var] = df_test_adj[var].cat.codes"
   ]
  },
  {
   "cell_type": "code",
   "execution_count": null,
   "metadata": {},
   "outputs": [],
   "source": [
    "df_test_adj.head()"
   ]
  },
  {
   "cell_type": "markdown",
   "metadata": {},
   "source": [
    "## 2.3. Feature Engineering - Time"
   ]
  },
  {
   "cell_type": "code",
   "execution_count": 15,
   "metadata": {},
   "outputs": [],
   "source": [
    "# transform train\n",
    "df_train_adj['DATE_DEPARTURE_UTC'] = pd.to_datetime(df_train_adj['DATE_DEPARTURE_UTC'])\n",
    "df_train_adj['DATE_ARRIVAL_UTC'] = pd.to_datetime(df_train_adj['DATE_ARRIVAL_UTC'])\n",
    "df_train_adj['DATE_DEPARTURE_LCL'] = pd.to_datetime(df_train_adj['DATE_DEPARTURE_LCL'])\n",
    "df_train_adj['DATE_ARRIVAL_LCL'] = pd.to_datetime(df_train_adj['DATE_ARRIVAL_LCL'])\n",
    "\n",
    "# test\n",
    "\n",
    "df_test_adj['DATE_DEPARTURE_UTC'] = pd.to_datetime(df_test_adj['DATE_DEPARTURE_UTC'])\n",
    "df_test_adj['DATE_ARRIVAL_UTC'] = pd.to_datetime(df_test_adj['DATE_ARRIVAL_UTC'])\n",
    "df_test_adj['DATE_DEPARTURE_LCL'] = pd.to_datetime(df_test_adj['DATE_DEPARTURE_LCL'])\n",
    "df_test_adj['DATE_ARRIVAL_LCL'] = pd.to_datetime(df_test_adj['DATE_ARRIVAL_LCL'])\n",
    "\n"
   ]
  },
  {
   "cell_type": "code",
   "execution_count": 16,
   "metadata": {},
   "outputs": [],
   "source": [
    "def extract_date_stamps(df, date_cols):\n",
    "    for col in date_cols:\n",
    "        df['year_' + col] = df[col].dt.year\n",
    "        df['month_' + col] = df[col].dt.month\n",
    "        df['day_' + col] = df[col].dt.day\n",
    "        df['hour_' + col] = df[col].dt.hour\n",
    "        df['minute_' + col] = df[col].dt.minute\n",
    "        df['dayofyear_' + col] = df[col].dt.dayofyear\n",
    "        df['weekofyear_' + col] = df[col].dt.weekofyear\n",
    "        df['dayofweek_' + col] = df[col].dt.dayofweek\n",
    "        df['quarter_' + col] = df[col].dt.quarter\n",
    "        df['isweekend_' + col] = np.where(df['dayofweek_' + col].isin([5,6]),1,0)\n",
    "    df['duration_' + col] = (df[date_cols[1]] - df[date_cols[0]]).dt.seconds/60\n",
    "    return df\n"
   ]
  },
  {
   "cell_type": "code",
   "execution_count": 17,
   "metadata": {},
   "outputs": [],
   "source": [
    "date_cols = ['DATE_DEPARTURE_LCL', 'DATE_ARRIVAL_LCL']\n",
    "df_train_adj = extract_date_stamps(df_train_adj, date_cols)\n",
    "df_test_adj = extract_date_stamps(df_test_adj, date_cols)"
   ]
  },
  {
   "cell_type": "code",
   "execution_count": 18,
   "metadata": {},
   "outputs": [
    {
     "data": {
      "text/html": [
       "<div>\n",
       "<style scoped>\n",
       "    .dataframe tbody tr th:only-of-type {\n",
       "        vertical-align: middle;\n",
       "    }\n",
       "\n",
       "    .dataframe tbody tr th {\n",
       "        vertical-align: top;\n",
       "    }\n",
       "\n",
       "    .dataframe thead th {\n",
       "        text-align: right;\n",
       "    }\n",
       "</style>\n",
       "<table border=\"1\" class=\"dataframe\">\n",
       "  <thead>\n",
       "    <tr style=\"text-align: right;\">\n",
       "      <th></th>\n",
       "      <th>DATE_DEPARTURE_UTC</th>\n",
       "      <th>DATE_ARRIVAL_UTC</th>\n",
       "      <th>DATE_DEPARTURE_LCL</th>\n",
       "      <th>DATE_ARRIVAL_LCL</th>\n",
       "      <th>ORIGIN</th>\n",
       "      <th>DEST</th>\n",
       "      <th>TAIL_NUM</th>\n",
       "      <th>OP_CARRIER</th>\n",
       "      <th>OP_CARRIER_FL_NUM</th>\n",
       "      <th>DISTANCE</th>\n",
       "      <th>...</th>\n",
       "      <th>month_DATE_ARRIVAL_LCL</th>\n",
       "      <th>day_DATE_ARRIVAL_LCL</th>\n",
       "      <th>hour_DATE_ARRIVAL_LCL</th>\n",
       "      <th>minute_DATE_ARRIVAL_LCL</th>\n",
       "      <th>dayofyear_DATE_ARRIVAL_LCL</th>\n",
       "      <th>weekofyear_DATE_ARRIVAL_LCL</th>\n",
       "      <th>dayofweek_DATE_ARRIVAL_LCL</th>\n",
       "      <th>quarter_DATE_ARRIVAL_LCL</th>\n",
       "      <th>isweekend_DATE_ARRIVAL_LCL</th>\n",
       "      <th>duration_DATE_ARRIVAL_LCL</th>\n",
       "    </tr>\n",
       "    <tr>\n",
       "      <th>ID</th>\n",
       "      <th></th>\n",
       "      <th></th>\n",
       "      <th></th>\n",
       "      <th></th>\n",
       "      <th></th>\n",
       "      <th></th>\n",
       "      <th></th>\n",
       "      <th></th>\n",
       "      <th></th>\n",
       "      <th></th>\n",
       "      <th></th>\n",
       "      <th></th>\n",
       "      <th></th>\n",
       "      <th></th>\n",
       "      <th></th>\n",
       "      <th></th>\n",
       "      <th></th>\n",
       "      <th></th>\n",
       "      <th></th>\n",
       "      <th></th>\n",
       "      <th></th>\n",
       "    </tr>\n",
       "  </thead>\n",
       "  <tbody>\n",
       "    <tr>\n",
       "      <th>425552</th>\n",
       "      <td>2020-01-23 01:26:00</td>\n",
       "      <td>2020-01-23 02:52:00</td>\n",
       "      <td>2020-01-22 20:26:00</td>\n",
       "      <td>2020-01-22 21:52:00</td>\n",
       "      <td>188</td>\n",
       "      <td>32</td>\n",
       "      <td>N8894A</td>\n",
       "      <td>0</td>\n",
       "      <td>5032</td>\n",
       "      <td>378.0</td>\n",
       "      <td>...</td>\n",
       "      <td>1</td>\n",
       "      <td>22</td>\n",
       "      <td>21</td>\n",
       "      <td>52</td>\n",
       "      <td>22</td>\n",
       "      <td>4</td>\n",
       "      <td>2</td>\n",
       "      <td>1</td>\n",
       "      <td>0</td>\n",
       "      <td>86.0</td>\n",
       "    </tr>\n",
       "    <tr>\n",
       "      <th>415418</th>\n",
       "      <td>2020-01-23 01:26:00</td>\n",
       "      <td>2020-01-23 03:04:00</td>\n",
       "      <td>2020-01-22 19:26:00</td>\n",
       "      <td>2020-01-22 22:04:00</td>\n",
       "      <td>203</td>\n",
       "      <td>250</td>\n",
       "      <td>N8615E</td>\n",
       "      <td>14</td>\n",
       "      <td>1168</td>\n",
       "      <td>668.0</td>\n",
       "      <td>...</td>\n",
       "      <td>1</td>\n",
       "      <td>22</td>\n",
       "      <td>22</td>\n",
       "      <td>4</td>\n",
       "      <td>22</td>\n",
       "      <td>4</td>\n",
       "      <td>2</td>\n",
       "      <td>1</td>\n",
       "      <td>0</td>\n",
       "      <td>158.0</td>\n",
       "    </tr>\n",
       "    <tr>\n",
       "      <th>414222</th>\n",
       "      <td>2020-01-23 01:26:00</td>\n",
       "      <td>2020-01-23 03:06:00</td>\n",
       "      <td>2020-01-22 18:26:00</td>\n",
       "      <td>2020-01-22 19:06:00</td>\n",
       "      <td>88</td>\n",
       "      <td>177</td>\n",
       "      <td>N7853B</td>\n",
       "      <td>14</td>\n",
       "      <td>799</td>\n",
       "      <td>628.0</td>\n",
       "      <td>...</td>\n",
       "      <td>1</td>\n",
       "      <td>22</td>\n",
       "      <td>19</td>\n",
       "      <td>6</td>\n",
       "      <td>22</td>\n",
       "      <td>4</td>\n",
       "      <td>2</td>\n",
       "      <td>1</td>\n",
       "      <td>0</td>\n",
       "      <td>40.0</td>\n",
       "    </tr>\n",
       "    <tr>\n",
       "      <th>421432</th>\n",
       "      <td>2020-01-23 01:26:00</td>\n",
       "      <td>2020-01-23 02:48:00</td>\n",
       "      <td>2020-01-22 17:26:00</td>\n",
       "      <td>2020-01-22 18:48:00</td>\n",
       "      <td>306</td>\n",
       "      <td>287</td>\n",
       "      <td>N7812G</td>\n",
       "      <td>14</td>\n",
       "      <td>4454</td>\n",
       "      <td>417.0</td>\n",
       "      <td>...</td>\n",
       "      <td>1</td>\n",
       "      <td>22</td>\n",
       "      <td>18</td>\n",
       "      <td>48</td>\n",
       "      <td>22</td>\n",
       "      <td>4</td>\n",
       "      <td>2</td>\n",
       "      <td>1</td>\n",
       "      <td>0</td>\n",
       "      <td>82.0</td>\n",
       "    </tr>\n",
       "    <tr>\n",
       "      <th>421356</th>\n",
       "      <td>2020-01-23 01:26:00</td>\n",
       "      <td>2020-01-23 02:24:00</td>\n",
       "      <td>2020-01-22 17:26:00</td>\n",
       "      <td>2020-01-22 18:24:00</td>\n",
       "      <td>306</td>\n",
       "      <td>53</td>\n",
       "      <td>N7859B</td>\n",
       "      <td>14</td>\n",
       "      <td>2024</td>\n",
       "      <td>296.0</td>\n",
       "      <td>...</td>\n",
       "      <td>1</td>\n",
       "      <td>22</td>\n",
       "      <td>18</td>\n",
       "      <td>24</td>\n",
       "      <td>22</td>\n",
       "      <td>4</td>\n",
       "      <td>2</td>\n",
       "      <td>1</td>\n",
       "      <td>0</td>\n",
       "      <td>58.0</td>\n",
       "    </tr>\n",
       "  </tbody>\n",
       "</table>\n",
       "<p>5 rows × 53 columns</p>\n",
       "</div>"
      ],
      "text/plain": [
       "        DATE_DEPARTURE_UTC    DATE_ARRIVAL_UTC  DATE_DEPARTURE_LCL  \\\n",
       "ID                                                                   \n",
       "425552 2020-01-23 01:26:00 2020-01-23 02:52:00 2020-01-22 20:26:00   \n",
       "415418 2020-01-23 01:26:00 2020-01-23 03:04:00 2020-01-22 19:26:00   \n",
       "414222 2020-01-23 01:26:00 2020-01-23 03:06:00 2020-01-22 18:26:00   \n",
       "421432 2020-01-23 01:26:00 2020-01-23 02:48:00 2020-01-22 17:26:00   \n",
       "421356 2020-01-23 01:26:00 2020-01-23 02:24:00 2020-01-22 17:26:00   \n",
       "\n",
       "          DATE_ARRIVAL_LCL  ORIGIN  DEST TAIL_NUM  OP_CARRIER  \\\n",
       "ID                                                              \n",
       "425552 2020-01-22 21:52:00     188    32   N8894A           0   \n",
       "415418 2020-01-22 22:04:00     203   250   N8615E          14   \n",
       "414222 2020-01-22 19:06:00      88   177   N7853B          14   \n",
       "421432 2020-01-22 18:48:00     306   287   N7812G          14   \n",
       "421356 2020-01-22 18:24:00     306    53   N7859B          14   \n",
       "\n",
       "        OP_CARRIER_FL_NUM  DISTANCE  ...  month_DATE_ARRIVAL_LCL  \\\n",
       "ID                                   ...                           \n",
       "425552               5032     378.0  ...                       1   \n",
       "415418               1168     668.0  ...                       1   \n",
       "414222                799     628.0  ...                       1   \n",
       "421432               4454     417.0  ...                       1   \n",
       "421356               2024     296.0  ...                       1   \n",
       "\n",
       "       day_DATE_ARRIVAL_LCL hour_DATE_ARRIVAL_LCL  minute_DATE_ARRIVAL_LCL  \\\n",
       "ID                                                                           \n",
       "425552                   22                    21                       52   \n",
       "415418                   22                    22                        4   \n",
       "414222                   22                    19                        6   \n",
       "421432                   22                    18                       48   \n",
       "421356                   22                    18                       24   \n",
       "\n",
       "        dayofyear_DATE_ARRIVAL_LCL  weekofyear_DATE_ARRIVAL_LCL  \\\n",
       "ID                                                                \n",
       "425552                          22                            4   \n",
       "415418                          22                            4   \n",
       "414222                          22                            4   \n",
       "421432                          22                            4   \n",
       "421356                          22                            4   \n",
       "\n",
       "        dayofweek_DATE_ARRIVAL_LCL  quarter_DATE_ARRIVAL_LCL  \\\n",
       "ID                                                             \n",
       "425552                           2                         1   \n",
       "415418                           2                         1   \n",
       "414222                           2                         1   \n",
       "421432                           2                         1   \n",
       "421356                           2                         1   \n",
       "\n",
       "        isweekend_DATE_ARRIVAL_LCL  duration_DATE_ARRIVAL_LCL  \n",
       "ID                                                             \n",
       "425552                           0                       86.0  \n",
       "415418                           0                      158.0  \n",
       "414222                           0                       40.0  \n",
       "421432                           0                       82.0  \n",
       "421356                           0                       58.0  \n",
       "\n",
       "[5 rows x 53 columns]"
      ]
     },
     "execution_count": 18,
     "metadata": {},
     "output_type": "execute_result"
    }
   ],
   "source": [
    "df_test_adj.head()"
   ]
  },
  {
   "cell_type": "code",
   "execution_count": 19,
   "metadata": {},
   "outputs": [],
   "source": [
    "def date_feature_engineering(df, my_cols, date_cols):\n",
    "    combo_cols = []\n",
    "    for i in date_cols:\n",
    "        for j in my_cols:\n",
    "            combo = j + '_' + i\n",
    "            combo_cols.append(combo)\n",
    "    for combo in combo_cols:\n",
    "        col = combo.split('_')[0]\n",
    "        df_ = df[['ARR_DEL15', combo]].groupby([combo]).agg(['sum', 'count'])\n",
    "        df_.columns = ['sum', 'count']\n",
    "        new_col = 'mean_delay_per_' + combo\n",
    "        df_[new_col] = df_['sum']/df_['count']\n",
    "        df_ = df_.drop(['sum', 'count'], axis=1)\n",
    "        df_ = df_.reset_index()\n",
    "        df_.rename(columns={col:combo}, inplace=True)\n",
    "        final = df_.set_index(combo).join(df.set_index(combo))     \n",
    "    return(final)   "
   ]
  },
  {
   "cell_type": "code",
   "execution_count": 20,
   "metadata": {},
   "outputs": [],
   "source": [
    "my_cols = ['day', 'hour', 'minute', 'dayofweek', 'isweekend']\n",
    "df_train_adj = date_feature_engineering(df_train_adj, my_cols, date_cols)"
   ]
  },
  {
   "cell_type": "code",
   "execution_count": null,
   "metadata": {},
   "outputs": [],
   "source": [
    "df_train_adj"
   ]
  },
  {
   "cell_type": "code",
   "execution_count": null,
   "metadata": {},
   "outputs": [],
   "source": [
    "get_my_features = df_train_adj[['mean_delay_per_isweekend_DATE_ARRIVAL_LCL',\n",
    "       'mean_delay_per_dayofweek_DATE_ARRIVAL_LCL',\n",
    "       'mean_delay_per_minute_DATE_ARRIVAL_LCL',\n",
    "       'mean_delay_per_hour_DATE_ARRIVAL_LCL',\n",
    "       'mean_delay_per_day_DATE_ARRIVAL_LCL',\n",
    "       'mean_delay_per_isweekend_DATE_DEPARTURE_LCL',\n",
    "       'mean_delay_per_dayofweek_DATE_DEPARTURE_LCL',\n",
    "       'mean_delay_per_minute_DATE_DEPARTURE_LCL',\n",
    "       'mean_delay_per_hour_DATE_DEPARTURE_LCL',\n",
    "       'mean_delay_per_day_DATE_DEPARTURE_LCL', \n",
    "       'year_DATE_DEPARTURE_LCL',\n",
    "       'month_DATE_DEPARTURE_LCL', \n",
    "       'dayofyear_DATE_DEPARTURE_LCL',\n",
    "       'weekofyear_DATE_DEPARTURE_LCL', \n",
    "       'quarter_DATE_DEPARTURE_LCL',\n",
    "       'year_DATE_ARRIVAL_LCL', \n",
    "       'month_DATE_ARRIVAL_LCL',\n",
    "       'dayofyear_DATE_ARRIVAL_LCL', \n",
    "       'weekofyear_DATE_ARRIVAL_LCL',\n",
    "       'quarter_DATE_ARRIVAL_LCL', \n",
    "       'duration_DATE_ARRIVAL_LCL']]"
   ]
  },
  {
   "cell_type": "code",
   "execution_count": null,
   "metadata": {},
   "outputs": [],
   "source": [
    "cols_to_merge_on = ['year_DATE_DEPARTURE_LCL',\n",
    "       'month_DATE_DEPARTURE_LCL', \n",
    "       'dayofyear_DATE_DEPARTURE_LCL',\n",
    "       'weekofyear_DATE_DEPARTURE_LCL', \n",
    "       'quarter_DATE_DEPARTURE_LCL',\n",
    "       'year_DATE_ARRIVAL_LCL', \n",
    "       'month_DATE_ARRIVAL_LCL',\n",
    "       'dayofyear_DATE_ARRIVAL_LCL', \n",
    "       'weekofyear_DATE_ARRIVAL_LCL',\n",
    "       'quarter_DATE_ARRIVAL_LCL', \n",
    "       'duration_DATE_ARRIVAL_LCL']"
   ]
  },
  {
   "cell_type": "code",
   "execution_count": null,
   "metadata": {},
   "outputs": [],
   "source": [
    "df_test_adj = pd.merge(left=get_my_features, right=df_test_adj, left_on=cols_to_merge_on, right_on=cols_to_merge_on)\n",
    "\n",
    "\n"
   ]
  },
  {
   "cell_type": "markdown",
   "metadata": {},
   "source": [
    "## 2.4. Select data"
   ]
  },
  {
   "cell_type": "code",
   "execution_count": null,
   "metadata": {},
   "outputs": [],
   "source": [
    "## Deal with imbalanced data set"
   ]
  },
  {
   "cell_type": "code",
   "execution_count": 21,
   "metadata": {},
   "outputs": [],
   "source": [
    "df_train_balanced_0 = df_train_adj[df_train_adj.ARR_DEL15 == 0].sample(n = df_train_adj[df_train_adj.ARR_DEL15 == 1].shape[0])"
   ]
  },
  {
   "cell_type": "code",
   "execution_count": 22,
   "metadata": {},
   "outputs": [],
   "source": [
    "df_train_balanced_1 = df_train_adj[df_train_adj.ARR_DEL15 == 1]"
   ]
  },
  {
   "cell_type": "code",
   "execution_count": 23,
   "metadata": {},
   "outputs": [
    {
     "data": {
      "text/plain": [
       "(62195, 54)"
      ]
     },
     "execution_count": 23,
     "metadata": {},
     "output_type": "execute_result"
    }
   ],
   "source": [
    "df_train_balanced_0.shape"
   ]
  },
  {
   "cell_type": "code",
   "execution_count": 24,
   "metadata": {},
   "outputs": [
    {
     "data": {
      "text/plain": [
       "(124390, 54)"
      ]
     },
     "execution_count": 24,
     "metadata": {},
     "output_type": "execute_result"
    }
   ],
   "source": [
    "df_train_balanced = pd.concat([df_train_balanced_0,df_train_balanced_1], axis=0)\n",
    "df_train_balanced.shape"
   ]
  },
  {
   "cell_type": "code",
   "execution_count": 25,
   "metadata": {},
   "outputs": [],
   "source": [
    "train_final = df_train_balanced\n",
    "test_final = df_test_adj"
   ]
  },
  {
   "cell_type": "code",
   "execution_count": 26,
   "metadata": {},
   "outputs": [
    {
     "data": {
      "text/plain": [
       "Index(['mean_delay_per_isweekend_DATE_ARRIVAL_LCL', 'DATE_DEPARTURE_UTC',\n",
       "       'DATE_ARRIVAL_UTC', 'DATE_DEPARTURE_LCL', 'DATE_ARRIVAL_LCL', 'ORIGIN',\n",
       "       'DEST', 'TAIL_NUM', 'OP_CARRIER', 'OP_CARRIER_FL_NUM', 'DISTANCE',\n",
       "       'DEP_DEL15', 'ARR_DEL15', 'Origin_Dest_Carrier', 'Origin_Dest',\n",
       "       'ORIGIN_PCT_DELAY', 'DEST_PCT_DELAY', 'OP_CARRIER_DL', 'OP_CARRIER_AS',\n",
       "       'OP_CARRIER_WN', 'OP_CARRIER_OH', 'OP_CARRIER_AA', 'OP_CARRIER_OO',\n",
       "       'OP_CARRIER_B6', 'OP_CARRIER_YX', 'OP_CARRIER_EV', 'OP_CARRIER_9E',\n",
       "       'OP_CARRIER_UA', 'OP_CARRIER_NK', 'OP_CARRIER_MQ', 'OP_CARRIER_YV',\n",
       "       'OP_CARRIER_F9', 'OP_CARRIER_HA', 'OP_CARRIER_G4',\n",
       "       'year_DATE_DEPARTURE_LCL', 'month_DATE_DEPARTURE_LCL',\n",
       "       'day_DATE_DEPARTURE_LCL', 'hour_DATE_DEPARTURE_LCL',\n",
       "       'minute_DATE_DEPARTURE_LCL', 'dayofyear_DATE_DEPARTURE_LCL',\n",
       "       'weekofyear_DATE_DEPARTURE_LCL', 'dayofweek_DATE_DEPARTURE_LCL',\n",
       "       'quarter_DATE_DEPARTURE_LCL', 'isweekend_DATE_DEPARTURE_LCL',\n",
       "       'year_DATE_ARRIVAL_LCL', 'month_DATE_ARRIVAL_LCL',\n",
       "       'day_DATE_ARRIVAL_LCL', 'hour_DATE_ARRIVAL_LCL',\n",
       "       'minute_DATE_ARRIVAL_LCL', 'dayofyear_DATE_ARRIVAL_LCL',\n",
       "       'weekofyear_DATE_ARRIVAL_LCL', 'dayofweek_DATE_ARRIVAL_LCL',\n",
       "       'quarter_DATE_ARRIVAL_LCL', 'duration_DATE_ARRIVAL_LCL'],\n",
       "      dtype='object')"
      ]
     },
     "execution_count": 26,
     "metadata": {},
     "output_type": "execute_result"
    }
   ],
   "source": [
    "train_final.columns"
   ]
  },
  {
   "cell_type": "code",
   "execution_count": 27,
   "metadata": {},
   "outputs": [
    {
     "ename": "KeyError",
     "evalue": "\"['isweekend_DATE_ARRIVAL_LCL'] not in index\"",
     "output_type": "error",
     "traceback": [
      "\u001b[0;31m---------------------------------------------------------------------------\u001b[0m",
      "\u001b[0;31mKeyError\u001b[0m                                  Traceback (most recent call last)",
      "\u001b[0;32m<ipython-input-27-493793283a71>\u001b[0m in \u001b[0;36m<module>\u001b[0;34m\u001b[0m\n\u001b[1;32m     21\u001b[0m              ]\n\u001b[1;32m     22\u001b[0m \u001b[0;31m# split in X and y\u001b[0m\u001b[0;34m\u001b[0m\u001b[0;34m\u001b[0m\u001b[0;34m\u001b[0m\u001b[0m\n\u001b[0;32m---> 23\u001b[0;31m \u001b[0mX\u001b[0m\u001b[0;34m,\u001b[0m \u001b[0my\u001b[0m \u001b[0;34m=\u001b[0m \u001b[0mtrain_final\u001b[0m\u001b[0;34m[\u001b[0m\u001b[0mcolumns\u001b[0m\u001b[0;34m]\u001b[0m\u001b[0;34m,\u001b[0m \u001b[0mtrain_final\u001b[0m\u001b[0;34m[\u001b[0m\u001b[0;34m\"ARR_DEL15\"\u001b[0m\u001b[0;34m]\u001b[0m\u001b[0;34m\u001b[0m\u001b[0;34m\u001b[0m\u001b[0m\n\u001b[0m\u001b[1;32m     24\u001b[0m \u001b[0mX_test\u001b[0m \u001b[0;34m=\u001b[0m \u001b[0mtest_final\u001b[0m\u001b[0;34m[\u001b[0m\u001b[0mcolumns\u001b[0m\u001b[0;34m]\u001b[0m\u001b[0;34m\u001b[0m\u001b[0;34m\u001b[0m\u001b[0m\n\u001b[1;32m     25\u001b[0m \u001b[0;34m\u001b[0m\u001b[0m\n",
      "\u001b[0;32m~/.virtualenvs/hckt01/lib/python3.8/site-packages/pandas/core/frame.py\u001b[0m in \u001b[0;36m__getitem__\u001b[0;34m(self, key)\u001b[0m\n\u001b[1;32m   2804\u001b[0m             \u001b[0;32mif\u001b[0m \u001b[0mis_iterator\u001b[0m\u001b[0;34m(\u001b[0m\u001b[0mkey\u001b[0m\u001b[0;34m)\u001b[0m\u001b[0;34m:\u001b[0m\u001b[0;34m\u001b[0m\u001b[0;34m\u001b[0m\u001b[0m\n\u001b[1;32m   2805\u001b[0m                 \u001b[0mkey\u001b[0m \u001b[0;34m=\u001b[0m \u001b[0mlist\u001b[0m\u001b[0;34m(\u001b[0m\u001b[0mkey\u001b[0m\u001b[0;34m)\u001b[0m\u001b[0;34m\u001b[0m\u001b[0;34m\u001b[0m\u001b[0m\n\u001b[0;32m-> 2806\u001b[0;31m             \u001b[0mindexer\u001b[0m \u001b[0;34m=\u001b[0m \u001b[0mself\u001b[0m\u001b[0;34m.\u001b[0m\u001b[0mloc\u001b[0m\u001b[0;34m.\u001b[0m\u001b[0m_get_listlike_indexer\u001b[0m\u001b[0;34m(\u001b[0m\u001b[0mkey\u001b[0m\u001b[0;34m,\u001b[0m \u001b[0maxis\u001b[0m\u001b[0;34m=\u001b[0m\u001b[0;36m1\u001b[0m\u001b[0;34m,\u001b[0m \u001b[0mraise_missing\u001b[0m\u001b[0;34m=\u001b[0m\u001b[0;32mTrue\u001b[0m\u001b[0;34m)\u001b[0m\u001b[0;34m[\u001b[0m\u001b[0;36m1\u001b[0m\u001b[0;34m]\u001b[0m\u001b[0;34m\u001b[0m\u001b[0;34m\u001b[0m\u001b[0m\n\u001b[0m\u001b[1;32m   2807\u001b[0m \u001b[0;34m\u001b[0m\u001b[0m\n\u001b[1;32m   2808\u001b[0m         \u001b[0;31m# take() does not accept boolean indexers\u001b[0m\u001b[0;34m\u001b[0m\u001b[0;34m\u001b[0m\u001b[0;34m\u001b[0m\u001b[0m\n",
      "\u001b[0;32m~/.virtualenvs/hckt01/lib/python3.8/site-packages/pandas/core/indexing.py\u001b[0m in \u001b[0;36m_get_listlike_indexer\u001b[0;34m(self, key, axis, raise_missing)\u001b[0m\n\u001b[1;32m   1550\u001b[0m             \u001b[0mkeyarr\u001b[0m\u001b[0;34m,\u001b[0m \u001b[0mindexer\u001b[0m\u001b[0;34m,\u001b[0m \u001b[0mnew_indexer\u001b[0m \u001b[0;34m=\u001b[0m \u001b[0max\u001b[0m\u001b[0;34m.\u001b[0m\u001b[0m_reindex_non_unique\u001b[0m\u001b[0;34m(\u001b[0m\u001b[0mkeyarr\u001b[0m\u001b[0;34m)\u001b[0m\u001b[0;34m\u001b[0m\u001b[0;34m\u001b[0m\u001b[0m\n\u001b[1;32m   1551\u001b[0m \u001b[0;34m\u001b[0m\u001b[0m\n\u001b[0;32m-> 1552\u001b[0;31m         self._validate_read_indexer(\n\u001b[0m\u001b[1;32m   1553\u001b[0m             \u001b[0mkeyarr\u001b[0m\u001b[0;34m,\u001b[0m \u001b[0mindexer\u001b[0m\u001b[0;34m,\u001b[0m \u001b[0mo\u001b[0m\u001b[0;34m.\u001b[0m\u001b[0m_get_axis_number\u001b[0m\u001b[0;34m(\u001b[0m\u001b[0maxis\u001b[0m\u001b[0;34m)\u001b[0m\u001b[0;34m,\u001b[0m \u001b[0mraise_missing\u001b[0m\u001b[0;34m=\u001b[0m\u001b[0mraise_missing\u001b[0m\u001b[0;34m\u001b[0m\u001b[0;34m\u001b[0m\u001b[0m\n\u001b[1;32m   1554\u001b[0m         )\n",
      "\u001b[0;32m~/.virtualenvs/hckt01/lib/python3.8/site-packages/pandas/core/indexing.py\u001b[0m in \u001b[0;36m_validate_read_indexer\u001b[0;34m(self, key, indexer, axis, raise_missing)\u001b[0m\n\u001b[1;32m   1644\u001b[0m             \u001b[0;32mif\u001b[0m \u001b[0;32mnot\u001b[0m \u001b[0;34m(\u001b[0m\u001b[0mself\u001b[0m\u001b[0;34m.\u001b[0m\u001b[0mname\u001b[0m \u001b[0;34m==\u001b[0m \u001b[0;34m\"loc\"\u001b[0m \u001b[0;32mand\u001b[0m \u001b[0;32mnot\u001b[0m \u001b[0mraise_missing\u001b[0m\u001b[0;34m)\u001b[0m\u001b[0;34m:\u001b[0m\u001b[0;34m\u001b[0m\u001b[0;34m\u001b[0m\u001b[0m\n\u001b[1;32m   1645\u001b[0m                 \u001b[0mnot_found\u001b[0m \u001b[0;34m=\u001b[0m \u001b[0mlist\u001b[0m\u001b[0;34m(\u001b[0m\u001b[0mset\u001b[0m\u001b[0;34m(\u001b[0m\u001b[0mkey\u001b[0m\u001b[0;34m)\u001b[0m \u001b[0;34m-\u001b[0m \u001b[0mset\u001b[0m\u001b[0;34m(\u001b[0m\u001b[0max\u001b[0m\u001b[0;34m)\u001b[0m\u001b[0;34m)\u001b[0m\u001b[0;34m\u001b[0m\u001b[0;34m\u001b[0m\u001b[0m\n\u001b[0;32m-> 1646\u001b[0;31m                 \u001b[0;32mraise\u001b[0m \u001b[0mKeyError\u001b[0m\u001b[0;34m(\u001b[0m\u001b[0;34mf\"{not_found} not in index\"\u001b[0m\u001b[0;34m)\u001b[0m\u001b[0;34m\u001b[0m\u001b[0;34m\u001b[0m\u001b[0m\n\u001b[0m\u001b[1;32m   1647\u001b[0m \u001b[0;34m\u001b[0m\u001b[0m\n\u001b[1;32m   1648\u001b[0m             \u001b[0;31m# we skip the warning on Categorical/Interval\u001b[0m\u001b[0;34m\u001b[0m\u001b[0;34m\u001b[0m\u001b[0;34m\u001b[0m\u001b[0m\n",
      "\u001b[0;31mKeyError\u001b[0m: \"['isweekend_DATE_ARRIVAL_LCL'] not in index\""
     ]
    }
   ],
   "source": [
    "# select the columns for model building\n",
    "columns = [\"ORIGIN\", \n",
    "           \"DEST\", \n",
    "           \"DISTANCE\", \n",
    "            \"DEP_DEL15\",\n",
    "            'ORIGIN_PCT_DELAY',\n",
    "             'DEST_PCT_DELAY',\n",
    "           'day_DATE_DEPARTURE_LCL',\n",
    "           'hour_DATE_DEPARTURE_LCL', \n",
    "           'minute_DATE_DEPARTURE_LCL',\n",
    "           'dayofyear_DATE_DEPARTURE_LCL',\n",
    "           'dayofweek_DATE_DEPARTURE_LCL', \n",
    "           'isweekend_DATE_DEPARTURE_LCL', \n",
    "           'day_DATE_ARRIVAL_LCL',\n",
    "           'hour_DATE_ARRIVAL_LCL', \n",
    "           'minute_DATE_ARRIVAL_LCL',\n",
    "           'dayofyear_DATE_ARRIVAL_LCL', \n",
    "           'dayofweek_DATE_ARRIVAL_LCL',\n",
    "           'isweekend_DATE_ARRIVAL_LCL',\n",
    "           'duration_DATE_ARRIVAL_LCL'\n",
    "             ]\n",
    "# split in X and y\n",
    "X, y = train_final[columns], train_final[\"ARR_DEL15\"]\n",
    "X_test = test_final[columns]\n",
    "\n",
    "# split in train and validation\n",
    "X_train, X_val, y_train, y_val = train_test_split(X, y, test_size=0.30, random_state=42)"
   ]
  },
  {
   "cell_type": "code",
   "execution_count": null,
   "metadata": {},
   "outputs": [],
   "source": [
    "X_train.head()"
   ]
  },
  {
   "cell_type": "code",
   "execution_count": null,
   "metadata": {
    "scrolled": true
   },
   "outputs": [],
   "source": [
    "X_test.head()"
   ]
  },
  {
   "cell_type": "markdown",
   "metadata": {},
   "source": [
    "# 3. Model selection & training"
   ]
  },
  {
   "cell_type": "markdown",
   "metadata": {},
   "source": [
    "### Logistic regression"
   ]
  },
  {
   "cell_type": "code",
   "execution_count": null,
   "metadata": {},
   "outputs": [],
   "source": [
    "# normalize data before using Logistic Regression\n",
    "def normalize_data(X):\n",
    "    \n",
    "    normalized_X = (X - np.min(X, axis = 0))/(np.max(X, axis = 0) - np.min(X, axis = 0))\n",
    "    \n",
    "    return normalized_X"
   ]
  },
  {
   "cell_type": "code",
   "execution_count": null,
   "metadata": {},
   "outputs": [],
   "source": [
    "# normalize train and val\n",
    "X_train_norm = normalize_data(X_train)\n",
    "X_val_norm = normalize_data(X_val)"
   ]
  },
  {
   "cell_type": "code",
   "execution_count": null,
   "metadata": {},
   "outputs": [],
   "source": [
    "# Logistic_regression\n",
    "from sklearn.linear_model import LogisticRegression\n",
    "\n",
    "logreg = LogisticRegression(random_state=43).fit(X_train_norm, y_train)"
   ]
  },
  {
   "cell_type": "code",
   "execution_count": null,
   "metadata": {
    "scrolled": true
   },
   "outputs": [],
   "source": [
    "# Predictions\n",
    "logreg_predictions = logreg.predict(X_val)\n",
    "logreg_probas = logreg.predict_proba(X_val)\n",
    "logreg.score(X_val, y_val)\n",
    "\n"
   ]
  },
  {
   "cell_type": "markdown",
   "metadata": {},
   "source": [
    "### Decision Tree"
   ]
  },
  {
   "cell_type": "code",
   "execution_count": null,
   "metadata": {},
   "outputs": [],
   "source": [
    "# define the classifier\n",
    "dt = DecisionTreeClassifier(random_state = 43)\n",
    "dt.fit(X_train, y_train)\n"
   ]
  },
  {
   "cell_type": "code",
   "execution_count": null,
   "metadata": {},
   "outputs": [],
   "source": [
    "feature_importances = pd.Series(data=dt.feature_importances_, index=X_train.columns)\n",
    "feature_importances.sort_values(ascending=False)"
   ]
  },
  {
   "cell_type": "code",
   "execution_count": null,
   "metadata": {
    "scrolled": true
   },
   "outputs": [],
   "source": [
    "# make predictions\n",
    "# set data and target here\n",
    "X = X_val\n",
    "target = y_val\n",
    "\n",
    "####\n",
    "dt_predictions = dt.predict(X)\n",
    "conf_mat = confusion_matrix(y_true=target, y_pred=dt_predictions)\n",
    "print(conf_mat)\n",
    "\n",
    "# accurac, precision, recall\n",
    "accuracy = accuracy_score(target, dt_predictions)\n",
    "precision = precision_score(target, dt_predictions)\n",
    "recall = recall_score(target, dt_predictions)\n",
    "\n",
    "print(\"Decision Tree Accuracy is: {}\".format(accuracy))\n",
    "print(\"Decision Tree Precision is: {}\".format(precision))\n",
    "print(\"Decision Tree Recall is: {}\".format(recall))"
   ]
  },
  {
   "cell_type": "code",
   "execution_count": null,
   "metadata": {},
   "outputs": [],
   "source": [
    "from sklearn.metrics import roc_curve\n",
    "\n",
    "probas = dt.predict_proba(X_val)[:,1]\n",
    "\n",
    "fpr, tpr, thresholds = roc_curve(y_score = probas, y_true=target)\n",
    "\n",
    "\n",
    "from sklearn.metrics import roc_auc_score\n",
    "roc_auc = roc_auc_score(y_score=probas, y_true=target)\n",
    "print(roc_auc)    \n",
    "    "
   ]
  },
  {
   "cell_type": "markdown",
   "metadata": {},
   "source": [
    "### SUBMISSION PART"
   ]
  },
  {
   "cell_type": "code",
   "execution_count": null,
   "metadata": {},
   "outputs": [],
   "source": [
    "test_dt_predictions = dt.predict_proba(X_test)[:,1]\n",
    "\n",
    "ser = pd.Series(test_dt_predictions, index = X_test.index, name = \"ARR_DEL15\")\n",
    "print(ser.head())\n",
    "ser.to_csv(\"second_submission.csv\")"
   ]
  },
  {
   "cell_type": "markdown",
   "metadata": {},
   "source": [
    "### Random forest"
   ]
  },
  {
   "cell_type": "code",
   "execution_count": null,
   "metadata": {},
   "outputs": [],
   "source": [
    "from sklearn.ensemble import RandomForestClassifier\n",
    "\n",
    "rf = RandomForestClassifier(max_depth=8, random_state=43).fit(X_train, y_train)"
   ]
  },
  {
   "cell_type": "code",
   "execution_count": null,
   "metadata": {},
   "outputs": [],
   "source": [
    "# make predictions\n",
    "# set data and target here\n",
    "X = X_val\n",
    "target = y_val\n",
    "\n",
    "####\n",
    "rf_predictions = rf.predict(X)\n",
    "conf_mat = confusion_matrix(y_true=target, y_pred=rf_predictions)\n",
    "print(conf_mat)\n",
    "\n",
    "probas = rf.predict_proba(X_val)[:,1]\n",
    "\n",
    "# accurac, precision, recall, roc_auc\n",
    "\n",
    "accuracy = accuracy_score(target, rf_predictions)\n",
    "precision = precision_score(target, rf_predictions)\n",
    "recall = recall_score(target, rf_predictions)\n",
    "roc_auc = roc_auc_score(y_score=probas, y_true=target)\n",
    "\n",
    "print(\"Random Forest ROC_AUC is: {}\".format(roc_auc))\n",
    "print(\"Random Forest Accuracy is: {}\".format(accuracy))\n",
    "print(\"Random Forest Precision is: {}\".format(precision))\n",
    "print(\"Random Forest Recall is: {}\".format(recall))"
   ]
  },
  {
   "cell_type": "code",
   "execution_count": 229,
   "metadata": {
    "scrolled": true
   },
   "outputs": [
    {
     "name": "stdout",
     "output_type": "stream",
     "text": [
      "ID\n",
      "425552    0.441494\n",
      "415418    0.379098\n",
      "414222    0.271873\n",
      "421432    0.164727\n",
      "421356    0.233648\n",
      "Name: ARR_DEL15, dtype: float64\n"
     ]
    }
   ],
   "source": [
    "test_rf_predictions = rf.predict_proba(X_test)[:,1]\n",
    "ser = pd.Series(test_rf_predictions, index = X_test.index, name = \"ARR_DEL15\")\n",
    "print(ser.head())\n",
    "ser.to_csv(\"fourth_submission.csv\")"
   ]
  },
  {
   "cell_type": "code",
   "execution_count": 233,
   "metadata": {},
   "outputs": [
    {
     "data": {
      "text/plain": [
       "DEP_DEL15                       0.737454\n",
       "hour_DATE_ARRIVAL_LCL           0.049517\n",
       "hour_DATE_DEPARTURE_LCL         0.042104\n",
       "duration_DATE_ARRIVAL_LCL       0.036673\n",
       "dayofweek_DATE_ARRIVAL_LCL      0.022323\n",
       "dayofweek_DATE_DEPARTURE_LCL    0.020226\n",
       "ORIGIN_PCT_DELAY                0.019809\n",
       "DEST_PCT_DELAY                  0.013586\n",
       "DISTANCE                        0.012283\n",
       "dayofyear_DATE_DEPARTURE_LCL    0.007950\n",
       "day_DATE_ARRIVAL_LCL            0.006303\n",
       "day_DATE_DEPARTURE_LCL          0.005963\n",
       "dayofyear_DATE_ARRIVAL_LCL      0.005111\n",
       "DEST                            0.004170\n",
       "isweekend_DATE_ARRIVAL_LCL      0.004061\n",
       "ORIGIN                          0.003963\n",
       "isweekend_DATE_DEPARTURE_LCL    0.003498\n",
       "minute_DATE_ARRIVAL_LCL         0.002585\n",
       "minute_DATE_DEPARTURE_LCL       0.002420\n",
       "dtype: float64"
      ]
     },
     "execution_count": 233,
     "metadata": {},
     "output_type": "execute_result"
    }
   ],
   "source": [
    "feature_importances = pd.Series(data=rf.feature_importances_, index=X_train.columns)\n",
    "feature_importances.sort_values(ascending=False)"
   ]
  },
  {
   "cell_type": "markdown",
   "metadata": {},
   "source": [
    "# 4. Evaluate results"
   ]
  },
  {
   "cell_type": "markdown",
   "metadata": {},
   "source": [
    "### AUROC"
   ]
  },
  {
   "cell_type": "code",
   "execution_count": 240,
   "metadata": {},
   "outputs": [
    {
     "data": {
      "image/png": "[encoded data removed]",
      "text/plain": [
       "<Figure size 432x288 with 1 Axes>"
      ]
     },
     "metadata": {
      "needs_background": "light"
     },
     "output_type": "display_data"
    }
   ],
   "source": [
    "plt.title('Roc Curve')\n",
    "plt.plot(fpr, tpr, 'b', label = 'AUC = %0.2f' % roc_auc)\n",
    "plt.plot([0, 1], [0, 1],'r--')\n",
    "plt.xlim([0, 1])\n",
    "plt.ylim([0, 1])\n",
    "plt.ylabel('True Positive Rate')\n",
    "plt.xlabel('False Positive Rate')\n",
    "plt.show()"
   ]
  },
  {
   "cell_type": "code",
   "execution_count": null,
   "metadata": {},
   "outputs": [],
   "source": []
  }
 ],
 "metadata": {
  "kernelspec": {
   "display_name": "Python 3",
   "language": "python",
   "name": "python3"
  },
  "language_info": {
   "codemirror_mode": {
    "name": "ipython",
    "version": 3
   },
   "file_extension": ".py",
   "mimetype": "text/x-python",
   "name": "python",
   "nbconvert_exporter": "python",
   "pygments_lexer": "ipython3",
   "version": "3.8.5"
  }
 },
 "nbformat": 4,
 "nbformat_minor": 4
}
