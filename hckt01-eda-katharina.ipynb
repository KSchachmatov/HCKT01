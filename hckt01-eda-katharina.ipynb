{
 "cells": [
  {
   "cell_type": "markdown",
   "metadata": {},
   "source": [
    "# Import data\n"
   ]
  },
  {
   "cell_type": "code",
   "execution_count": 30,
   "metadata": {},
   "outputs": [],
   "source": [
    "import pandas as pd\n",
    "import seaborn as sns\n",
    "from matplotlib import pyplot as plt "
   ]
  },
  {
   "cell_type": "code",
   "execution_count": 2,
   "metadata": {},
   "outputs": [
    {
     "name": "stdout",
     "output_type": "stream",
     "text": [
      "/Users/katharina/projects/HCKT01\r\n"
     ]
    }
   ],
   "source": [
    "!pwd"
   ]
  },
  {
   "cell_type": "markdown",
   "metadata": {},
   "source": [
    "# Read data\n"
   ]
  },
  {
   "cell_type": "code",
   "execution_count": 50,
   "metadata": {},
   "outputs": [],
   "source": [
    "df = pd.read_csv(\"data/train.csv\")\n",
    "df_test = pd.read_csv(\"data/test.csv\")"
   ]
  },
  {
   "cell_type": "code",
   "execution_count": null,
   "metadata": {},
   "outputs": [],
   "source": []
  },
  {
   "cell_type": "code",
   "execution_count": 4,
   "metadata": {},
   "outputs": [
    {
     "data": {
      "text/html": [
       "<div>\n",
       "<style scoped>\n",
       "    .dataframe tbody tr th:only-of-type {\n",
       "        vertical-align: middle;\n",
       "    }\n",
       "\n",
       "    .dataframe tbody tr th {\n",
       "        vertical-align: top;\n",
       "    }\n",
       "\n",
       "    .dataframe thead th {\n",
       "        text-align: right;\n",
       "    }\n",
       "</style>\n",
       "<table border=\"1\" class=\"dataframe\">\n",
       "  <thead>\n",
       "    <tr style=\"text-align: right;\">\n",
       "      <th></th>\n",
       "      <th>ID</th>\n",
       "      <th>DATE_DEPARTURE_UTC</th>\n",
       "      <th>DATE_ARRIVAL_UTC</th>\n",
       "      <th>DATE_DEPARTURE_LCL</th>\n",
       "      <th>DATE_ARRIVAL_LCL</th>\n",
       "      <th>ORIGIN</th>\n",
       "      <th>ORIGIN_AIRPORT_ID</th>\n",
       "      <th>DEST</th>\n",
       "      <th>DEST_AIRPORT_ID</th>\n",
       "      <th>TAIL_NUM</th>\n",
       "      <th>OP_CARRIER</th>\n",
       "      <th>OP_CARRIER_AIRLINE_ID</th>\n",
       "      <th>OP_CARRIER_FL_NUM</th>\n",
       "      <th>DISTANCE</th>\n",
       "      <th>CANCELLED</th>\n",
       "      <th>DEP_DEL15</th>\n",
       "      <th>ARR_DEL15</th>\n",
       "    </tr>\n",
       "  </thead>\n",
       "  <tbody>\n",
       "    <tr>\n",
       "      <th>0</th>\n",
       "      <td>345355</td>\n",
       "      <td>2020-01-18 22:10:00</td>\n",
       "      <td>2020-01-18 23:59:00</td>\n",
       "      <td>2020-01-18 15:10:00</td>\n",
       "      <td>2020-01-18 15:59:00</td>\n",
       "      <td>SLC</td>\n",
       "      <td>14869</td>\n",
       "      <td>SNA</td>\n",
       "      <td>14908</td>\n",
       "      <td>N128DU</td>\n",
       "      <td>DL</td>\n",
       "      <td>19790</td>\n",
       "      <td>1056</td>\n",
       "      <td>588.0</td>\n",
       "      <td>0</td>\n",
       "      <td>0.0</td>\n",
       "      <td>0</td>\n",
       "    </tr>\n",
       "    <tr>\n",
       "      <th>1</th>\n",
       "      <td>323447</td>\n",
       "      <td>2020-01-17 21:47:00</td>\n",
       "      <td>2020-01-18 04:10:00</td>\n",
       "      <td>2020-01-17 16:47:00</td>\n",
       "      <td>2020-01-17 20:10:00</td>\n",
       "      <td>BOS</td>\n",
       "      <td>10721</td>\n",
       "      <td>SEA</td>\n",
       "      <td>14747</td>\n",
       "      <td>N486AS</td>\n",
       "      <td>AS</td>\n",
       "      <td>19930</td>\n",
       "      <td>15</td>\n",
       "      <td>2496.0</td>\n",
       "      <td>0</td>\n",
       "      <td>NaN</td>\n",
       "      <td>0</td>\n",
       "    </tr>\n",
       "    <tr>\n",
       "      <th>2</th>\n",
       "      <td>242237</td>\n",
       "      <td>2020-01-13 13:26:00</td>\n",
       "      <td>2020-01-13 14:26:00</td>\n",
       "      <td>2020-01-13 07:26:00</td>\n",
       "      <td>2020-01-13 08:26:00</td>\n",
       "      <td>DAL</td>\n",
       "      <td>11259</td>\n",
       "      <td>HOU</td>\n",
       "      <td>12191</td>\n",
       "      <td>N901WN</td>\n",
       "      <td>WN</td>\n",
       "      <td>19393</td>\n",
       "      <td>3</td>\n",
       "      <td>239.0</td>\n",
       "      <td>0</td>\n",
       "      <td>NaN</td>\n",
       "      <td>0</td>\n",
       "    </tr>\n",
       "    <tr>\n",
       "      <th>3</th>\n",
       "      <td>271408</td>\n",
       "      <td>2020-01-15 02:45:00</td>\n",
       "      <td>2020-01-15 03:37:00</td>\n",
       "      <td>2020-01-14 20:45:00</td>\n",
       "      <td>2020-01-14 21:37:00</td>\n",
       "      <td>STL</td>\n",
       "      <td>15016</td>\n",
       "      <td>DSM</td>\n",
       "      <td>11423</td>\n",
       "      <td>N778SW</td>\n",
       "      <td>WN</td>\n",
       "      <td>19393</td>\n",
       "      <td>1588</td>\n",
       "      <td>259.0</td>\n",
       "      <td>0</td>\n",
       "      <td>0.0</td>\n",
       "      <td>0</td>\n",
       "    </tr>\n",
       "    <tr>\n",
       "      <th>4</th>\n",
       "      <td>282447</td>\n",
       "      <td>2020-01-15 23:22:00</td>\n",
       "      <td>2020-01-16 00:49:00</td>\n",
       "      <td>2020-01-15 18:22:00</td>\n",
       "      <td>2020-01-15 19:49:00</td>\n",
       "      <td>CLT</td>\n",
       "      <td>11057</td>\n",
       "      <td>CHS</td>\n",
       "      <td>10994</td>\n",
       "      <td>N579NN</td>\n",
       "      <td>OH</td>\n",
       "      <td>20397</td>\n",
       "      <td>5207</td>\n",
       "      <td>168.0</td>\n",
       "      <td>0</td>\n",
       "      <td>NaN</td>\n",
       "      <td>1</td>\n",
       "    </tr>\n",
       "  </tbody>\n",
       "</table>\n",
       "</div>"
      ],
      "text/plain": [
       "       ID   DATE_DEPARTURE_UTC     DATE_ARRIVAL_UTC   DATE_DEPARTURE_LCL  \\\n",
       "0  345355  2020-01-18 22:10:00  2020-01-18 23:59:00  2020-01-18 15:10:00   \n",
       "1  323447  2020-01-17 21:47:00  2020-01-18 04:10:00  2020-01-17 16:47:00   \n",
       "2  242237  2020-01-13 13:26:00  2020-01-13 14:26:00  2020-01-13 07:26:00   \n",
       "3  271408  2020-01-15 02:45:00  2020-01-15 03:37:00  2020-01-14 20:45:00   \n",
       "4  282447  2020-01-15 23:22:00  2020-01-16 00:49:00  2020-01-15 18:22:00   \n",
       "\n",
       "      DATE_ARRIVAL_LCL ORIGIN  ORIGIN_AIRPORT_ID DEST  DEST_AIRPORT_ID  \\\n",
       "0  2020-01-18 15:59:00    SLC              14869  SNA            14908   \n",
       "1  2020-01-17 20:10:00    BOS              10721  SEA            14747   \n",
       "2  2020-01-13 08:26:00    DAL              11259  HOU            12191   \n",
       "3  2020-01-14 21:37:00    STL              15016  DSM            11423   \n",
       "4  2020-01-15 19:49:00    CLT              11057  CHS            10994   \n",
       "\n",
       "  TAIL_NUM OP_CARRIER  OP_CARRIER_AIRLINE_ID  OP_CARRIER_FL_NUM  DISTANCE  \\\n",
       "0   N128DU         DL                  19790               1056     588.0   \n",
       "1   N486AS         AS                  19930                 15    2496.0   \n",
       "2   N901WN         WN                  19393                  3     239.0   \n",
       "3   N778SW         WN                  19393               1588     259.0   \n",
       "4   N579NN         OH                  20397               5207     168.0   \n",
       "\n",
       "   CANCELLED  DEP_DEL15  ARR_DEL15  \n",
       "0          0        0.0          0  \n",
       "1          0        NaN          0  \n",
       "2          0        NaN          0  \n",
       "3          0        0.0          0  \n",
       "4          0        NaN          1  "
      ]
     },
     "execution_count": 4,
     "metadata": {},
     "output_type": "execute_result"
    }
   ],
   "source": [
    "df.head()"
   ]
  },
  {
   "cell_type": "markdown",
   "metadata": {},
   "source": [
    "* DATE_DEPARTURE_UTC - UTC timestamp of the flight departure.\n",
    "* DATE_ARRIVAL_UTC - UTC timestamp of the flight arrival.\n",
    "* DATE_DEPARTURE_LCL - Local timestamp of the flight departure.\n",
    "* DATE_ARRIVAL _LCL - Local timestamp of the flight arrival.\n",
    "* ORIGIN - The name associated with each unique airport from which an airplane departs.\n",
    "* ORIGIN_AIRPORT_ID - ID associated with each unique airport from which an airplane departs.\n",
    "* DEST - The name associated with each unique airport to which an airplane arrives.\n",
    "* DEST_AIRPORT_ID - ID associated with each unique airport to which an airplane arrives.\n",
    "* TAIL_NUM - The number of the airplane, we can see this as the airplane “licence plate number”.\n",
    "* OP_CARRIER - The name of the airline company associated with each unique flight.\n",
    "* OP_CARRIER_AIRLINE_ID - ID associated with each unique airline company.\n",
    "* OP_CARRIER_FL_NUM - The number of the flight given by the airline company. \n",
    "* DISTANCE - The distance between the origin and destination airports\n",
    "* CANCELLED - Whether or not the flight was cancelled.\n",
    "* DEP_DEL15 - Discriminates whether an airplane departed with delay or not. A plane is considered delayed if it departs more than 15 minutes after the scheduled time.\n",
    "* ARR_DEL15 - Target Variable Discriminates whether an airplane arrives with delay or not. A plane is considered delayed if it arrives more than 15 minutes after the scheduled time.\n"
   ]
  },
  {
   "cell_type": "code",
   "execution_count": 7,
   "metadata": {},
   "outputs": [
    {
     "data": {
      "text/plain": [
       "(419487, 17)"
      ]
     },
     "execution_count": 7,
     "metadata": {},
     "output_type": "execute_result"
    }
   ],
   "source": [
    "# size\n",
    "df.shape"
   ]
  },
  {
   "cell_type": "code",
   "execution_count": 49,
   "metadata": {},
   "outputs": [
    {
     "data": {
      "text/plain": [
       "ID                         int64\n",
       "DATE_DEPARTURE_UTC        object\n",
       "DATE_ARRIVAL_UTC          object\n",
       "DATE_DEPARTURE_LCL        object\n",
       "DATE_ARRIVAL_LCL          object\n",
       "ORIGIN                    object\n",
       "ORIGIN_AIRPORT_ID          int64\n",
       "DEST                      object\n",
       "DEST_AIRPORT_ID            int64\n",
       "TAIL_NUM                  object\n",
       "OP_CARRIER                object\n",
       "OP_CARRIER_AIRLINE_ID      int64\n",
       "OP_CARRIER_FL_NUM          int64\n",
       "DISTANCE                 float64\n",
       "CANCELLED                  int64\n",
       "DEP_DEL15                float64\n",
       "ARR_DEL15                  int64\n",
       "dtype: object"
      ]
     },
     "execution_count": 49,
     "metadata": {},
     "output_type": "execute_result"
    }
   ],
   "source": [
    "df.dtypes"
   ]
  },
  {
   "cell_type": "code",
   "execution_count": 5,
   "metadata": {},
   "outputs": [
    {
     "data": {
      "text/html": [
       "<div>\n",
       "<style scoped>\n",
       "    .dataframe tbody tr th:only-of-type {\n",
       "        vertical-align: middle;\n",
       "    }\n",
       "\n",
       "    .dataframe tbody tr th {\n",
       "        vertical-align: top;\n",
       "    }\n",
       "\n",
       "    .dataframe thead th {\n",
       "        text-align: right;\n",
       "    }\n",
       "</style>\n",
       "<table border=\"1\" class=\"dataframe\">\n",
       "  <thead>\n",
       "    <tr style=\"text-align: right;\">\n",
       "      <th></th>\n",
       "      <th>ID</th>\n",
       "      <th>ORIGIN_AIRPORT_ID</th>\n",
       "      <th>DEST_AIRPORT_ID</th>\n",
       "      <th>OP_CARRIER_AIRLINE_ID</th>\n",
       "      <th>OP_CARRIER_FL_NUM</th>\n",
       "      <th>DISTANCE</th>\n",
       "      <th>CANCELLED</th>\n",
       "      <th>DEP_DEL15</th>\n",
       "      <th>ARR_DEL15</th>\n",
       "    </tr>\n",
       "  </thead>\n",
       "  <tbody>\n",
       "    <tr>\n",
       "      <th>count</th>\n",
       "      <td>419487.000000</td>\n",
       "      <td>419487.000000</td>\n",
       "      <td>419487.000000</td>\n",
       "      <td>419487.000000</td>\n",
       "      <td>419487.000000</td>\n",
       "      <td>401869.000000</td>\n",
       "      <td>419487.0</td>\n",
       "      <td>272667.000000</td>\n",
       "      <td>419487.000000</td>\n",
       "    </tr>\n",
       "    <tr>\n",
       "      <th>mean</th>\n",
       "      <td>212639.517973</td>\n",
       "      <td>12656.739730</td>\n",
       "      <td>12655.545597</td>\n",
       "      <td>19993.369749</td>\n",
       "      <td>2628.837404</td>\n",
       "      <td>803.586898</td>\n",
       "      <td>0.0</td>\n",
       "      <td>0.147227</td>\n",
       "      <td>0.148264</td>\n",
       "    </tr>\n",
       "    <tr>\n",
       "      <th>std</th>\n",
       "      <td>123449.043509</td>\n",
       "      <td>1525.037067</td>\n",
       "      <td>1524.512434</td>\n",
       "      <td>375.543815</td>\n",
       "      <td>1825.643818</td>\n",
       "      <td>589.887296</td>\n",
       "      <td>0.0</td>\n",
       "      <td>0.354333</td>\n",
       "      <td>0.355362</td>\n",
       "    </tr>\n",
       "    <tr>\n",
       "      <th>min</th>\n",
       "      <td>0.000000</td>\n",
       "      <td>10135.000000</td>\n",
       "      <td>10135.000000</td>\n",
       "      <td>19393.000000</td>\n",
       "      <td>1.000000</td>\n",
       "      <td>31.000000</td>\n",
       "      <td>0.0</td>\n",
       "      <td>0.000000</td>\n",
       "      <td>0.000000</td>\n",
       "    </tr>\n",
       "    <tr>\n",
       "      <th>25%</th>\n",
       "      <td>105540.500000</td>\n",
       "      <td>11292.000000</td>\n",
       "      <td>11292.000000</td>\n",
       "      <td>19790.000000</td>\n",
       "      <td>1073.000000</td>\n",
       "      <td>370.000000</td>\n",
       "      <td>0.0</td>\n",
       "      <td>0.000000</td>\n",
       "      <td>0.000000</td>\n",
       "    </tr>\n",
       "    <tr>\n",
       "      <th>50%</th>\n",
       "      <td>212787.000000</td>\n",
       "      <td>12889.000000</td>\n",
       "      <td>12889.000000</td>\n",
       "      <td>19977.000000</td>\n",
       "      <td>2184.000000</td>\n",
       "      <td>645.000000</td>\n",
       "      <td>0.0</td>\n",
       "      <td>0.000000</td>\n",
       "      <td>0.000000</td>\n",
       "    </tr>\n",
       "    <tr>\n",
       "      <th>75%</th>\n",
       "      <td>319018.500000</td>\n",
       "      <td>14027.000000</td>\n",
       "      <td>14027.000000</td>\n",
       "      <td>20378.000000</td>\n",
       "      <td>4115.000000</td>\n",
       "      <td>1045.000000</td>\n",
       "      <td>0.0</td>\n",
       "      <td>0.000000</td>\n",
       "      <td>0.000000</td>\n",
       "    </tr>\n",
       "    <tr>\n",
       "      <th>max</th>\n",
       "      <td>435681.000000</td>\n",
       "      <td>16869.000000</td>\n",
       "      <td>16869.000000</td>\n",
       "      <td>20452.000000</td>\n",
       "      <td>6799.000000</td>\n",
       "      <td>5095.000000</td>\n",
       "      <td>0.0</td>\n",
       "      <td>1.000000</td>\n",
       "      <td>1.000000</td>\n",
       "    </tr>\n",
       "  </tbody>\n",
       "</table>\n",
       "</div>"
      ],
      "text/plain": [
       "                  ID  ORIGIN_AIRPORT_ID  DEST_AIRPORT_ID  \\\n",
       "count  419487.000000      419487.000000    419487.000000   \n",
       "mean   212639.517973       12656.739730     12655.545597   \n",
       "std    123449.043509        1525.037067      1524.512434   \n",
       "min         0.000000       10135.000000     10135.000000   \n",
       "25%    105540.500000       11292.000000     11292.000000   \n",
       "50%    212787.000000       12889.000000     12889.000000   \n",
       "75%    319018.500000       14027.000000     14027.000000   \n",
       "max    435681.000000       16869.000000     16869.000000   \n",
       "\n",
       "       OP_CARRIER_AIRLINE_ID  OP_CARRIER_FL_NUM       DISTANCE  CANCELLED  \\\n",
       "count          419487.000000      419487.000000  401869.000000   419487.0   \n",
       "mean            19993.369749        2628.837404     803.586898        0.0   \n",
       "std               375.543815        1825.643818     589.887296        0.0   \n",
       "min             19393.000000           1.000000      31.000000        0.0   \n",
       "25%             19790.000000        1073.000000     370.000000        0.0   \n",
       "50%             19977.000000        2184.000000     645.000000        0.0   \n",
       "75%             20378.000000        4115.000000    1045.000000        0.0   \n",
       "max             20452.000000        6799.000000    5095.000000        0.0   \n",
       "\n",
       "           DEP_DEL15      ARR_DEL15  \n",
       "count  272667.000000  419487.000000  \n",
       "mean        0.147227       0.148264  \n",
       "std         0.354333       0.355362  \n",
       "min         0.000000       0.000000  \n",
       "25%         0.000000       0.000000  \n",
       "50%         0.000000       0.000000  \n",
       "75%         0.000000       0.000000  \n",
       "max         1.000000       1.000000  "
      ]
     },
     "execution_count": 5,
     "metadata": {},
     "output_type": "execute_result"
    }
   ],
   "source": [
    "df.describe()"
   ]
  },
  {
   "cell_type": "code",
   "execution_count": 33,
   "metadata": {},
   "outputs": [],
   "source": [
    "numerical = [\"ORIGIN_AIRPORT_ID\", \n",
    "             \"DEST_AIRPORT_ID\", \n",
    "             \"OP_CARRIER_AIRLINE_ID\", \n",
    "             \"OP_CARRIER_FL_NUM\", \n",
    "             \"DISTANCE\", \n",
    "             \"CANCELLED\", \n",
    "             \"DEP_DEL15\", \n",
    "             \"ARR_DEL15\" ]\n",
    "categorical = []"
   ]
  },
  {
   "cell_type": "code",
   "execution_count": 8,
   "metadata": {},
   "outputs": [
    {
     "data": {
      "text/plain": [
       "ID                            0\n",
       "DATE_DEPARTURE_UTC            0\n",
       "DATE_ARRIVAL_UTC              0\n",
       "DATE_DEPARTURE_LCL            0\n",
       "DATE_ARRIVAL_LCL              0\n",
       "ORIGIN                        0\n",
       "ORIGIN_AIRPORT_ID             0\n",
       "DEST                          0\n",
       "DEST_AIRPORT_ID               0\n",
       "TAIL_NUM                      0\n",
       "OP_CARRIER                    0\n",
       "OP_CARRIER_AIRLINE_ID         0\n",
       "OP_CARRIER_FL_NUM             0\n",
       "DISTANCE                  17618\n",
       "CANCELLED                     0\n",
       "DEP_DEL15                146820\n",
       "ARR_DEL15                     0\n",
       "dtype: int64"
      ]
     },
     "execution_count": 8,
     "metadata": {},
     "output_type": "execute_result"
    }
   ],
   "source": [
    "df.isnull().sum()"
   ]
  },
  {
   "cell_type": "markdown",
   "metadata": {},
   "source": [
    "\"DISTANCE\"(distance between the airports) and \"DEP_DEL15\"(departure delay) have missing values"
   ]
  },
  {
   "cell_type": "code",
   "execution_count": 10,
   "metadata": {
    "scrolled": true
   },
   "outputs": [
    {
     "data": {
      "text/plain": [
       "ID                       0.000000\n",
       "DATE_DEPARTURE_UTC       0.000000\n",
       "DATE_ARRIVAL_UTC         0.000000\n",
       "DATE_DEPARTURE_LCL       0.000000\n",
       "DATE_ARRIVAL_LCL         0.000000\n",
       "ORIGIN                   0.000000\n",
       "ORIGIN_AIRPORT_ID        0.000000\n",
       "DEST                     0.000000\n",
       "DEST_AIRPORT_ID          0.000000\n",
       "TAIL_NUM                 0.000000\n",
       "OP_CARRIER               0.000000\n",
       "OP_CARRIER_AIRLINE_ID    0.000000\n",
       "OP_CARRIER_FL_NUM        0.000000\n",
       "DISTANCE                 0.041999\n",
       "CANCELLED                0.000000\n",
       "DEP_DEL15                0.349999\n",
       "ARR_DEL15                0.000000\n",
       "dtype: float64"
      ]
     },
     "execution_count": 10,
     "metadata": {},
     "output_type": "execute_result"
    }
   ],
   "source": [
    "df.isnull().sum()/df.shape[0]"
   ]
  },
  {
   "cell_type": "markdown",
   "metadata": {},
   "source": [
    "## Look at the target variable"
   ]
  },
  {
   "cell_type": "code",
   "execution_count": 13,
   "metadata": {},
   "outputs": [
    {
     "data": {
      "text/plain": [
       "<matplotlib.axes._subplots.AxesSubplot at 0x11971ce20>"
      ]
     },
     "execution_count": 13,
     "metadata": {},
     "output_type": "execute_result"
    },
    {
     "data": {
      "image/png": "[encoded data removed]",
      "text/plain": [
       "<Figure size 432x288 with 1 Axes>"
      ]
     },
     "metadata": {
      "needs_background": "light"
     },
     "output_type": "display_data"
    }
   ],
   "source": [
    "df[\"ARR_DEL15\"].plot.hist()"
   ]
  },
  {
   "cell_type": "code",
   "execution_count": 15,
   "metadata": {
    "scrolled": true
   },
   "outputs": [
    {
     "data": {
      "text/plain": [
       "0    0.851736\n",
       "1    0.148264\n",
       "Name: ARR_DEL15, dtype: float64"
      ]
     },
     "execution_count": 15,
     "metadata": {},
     "output_type": "execute_result"
    }
   ],
   "source": [
    "df[\"ARR_DEL15\"].value_counts(normalize=True)"
   ]
  },
  {
   "cell_type": "code",
   "execution_count": 20,
   "metadata": {},
   "outputs": [
    {
     "data": {
      "text/plain": [
       "0    357292\n",
       "1     62195\n",
       "Name: ARR_DEL15, dtype: int64"
      ]
     },
     "execution_count": 20,
     "metadata": {},
     "output_type": "execute_result"
    }
   ],
   "source": [
    "df[\"ARR_DEL15\"].value_counts()"
   ]
  },
  {
   "cell_type": "code",
   "execution_count": 23,
   "metadata": {},
   "outputs": [
    {
     "data": {
      "text/plain": [
       "0    232240\n",
       "1     40427\n",
       "Name: ARR_DEL15, dtype: int64"
      ]
     },
     "execution_count": 23,
     "metadata": {},
     "output_type": "execute_result"
    }
   ],
   "source": [
    "df[~df.DEP_DEL15.isnull()].ARR_DEL15.value_counts()"
   ]
  },
  {
   "cell_type": "code",
   "execution_count": 21,
   "metadata": {},
   "outputs": [
    {
     "data": {
      "text/plain": [
       "0    0.851735\n",
       "1    0.148265\n",
       "Name: ARR_DEL15, dtype: float64"
      ]
     },
     "execution_count": 21,
     "metadata": {},
     "output_type": "execute_result"
    }
   ],
   "source": [
    "df[~df.DEP_DEL15.isnull()].ARR_DEL15.value_counts(normalize = True)"
   ]
  },
  {
   "cell_type": "markdown",
   "metadata": {},
   "source": [
    "## Cancelled flights"
   ]
  },
  {
   "cell_type": "code",
   "execution_count": 42,
   "metadata": {},
   "outputs": [
    {
     "data": {
      "text/plain": [
       "0    419487\n",
       "Name: CANCELLED, dtype: int64"
      ]
     },
     "execution_count": 42,
     "metadata": {},
     "output_type": "execute_result"
    }
   ],
   "source": [
    "df[\"CANCELLED\"].value_counts()"
   ]
  },
  {
   "cell_type": "markdown",
   "metadata": {},
   "source": [
    "okaaay.. so get rid of it\n"
   ]
  },
  {
   "cell_type": "markdown",
   "metadata": {},
   "source": [
    "## Some plots\n"
   ]
  },
  {
   "cell_type": "markdown",
   "metadata": {},
   "source": [
    "### The number of the flight given by the airline company."
   ]
  },
  {
   "cell_type": "code",
   "execution_count": 39,
   "metadata": {
    "scrolled": true
   },
   "outputs": [
    {
     "data": {
      "text/plain": [
       "<matplotlib.axes._subplots.AxesSubplot at 0x124153250>"
      ]
     },
     "execution_count": 39,
     "metadata": {},
     "output_type": "execute_result"
    },
    {
     "data": {
      "image/png": "[encoded data removed]",
      "text/plain": [
       "<Figure size 432x288 with 1 Axes>"
      ]
     },
     "metadata": {
      "needs_background": "light"
     },
     "output_type": "display_data"
    }
   ],
   "source": [
    "df[\"OP_CARRIER_FL_NUM\"].plot.hist(bins = 15)"
   ]
  },
  {
   "cell_type": "markdown",
   "metadata": {},
   "source": [
    "### Distance"
   ]
  },
  {
   "cell_type": "code",
   "execution_count": 40,
   "metadata": {},
   "outputs": [
    {
     "data": {
      "text/plain": [
       "<matplotlib.axes._subplots.AxesSubplot at 0x1220902e0>"
      ]
     },
     "execution_count": 40,
     "metadata": {},
     "output_type": "execute_result"
    },
    {
     "data": {
      "image/png": "[encoded data removed]",
      "text/plain": [
       "<Figure size 432x288 with 1 Axes>"
      ]
     },
     "metadata": {
      "needs_background": "light"
     },
     "output_type": "display_data"
    }
   ],
   "source": [
    "df[\"DISTANCE\"].plot.hist(bins = 15)"
   ]
  },
  {
   "cell_type": "code",
   "execution_count": null,
   "metadata": {},
   "outputs": [],
   "source": []
  },
  {
   "cell_type": "code",
   "execution_count": 45,
   "metadata": {},
   "outputs": [
    {
     "data": {
      "text/plain": [
       "<matplotlib.axes._subplots.AxesSubplot at 0x1241ffc70>"
      ]
     },
     "execution_count": 45,
     "metadata": {},
     "output_type": "execute_result"
    },
    {
     "data": {
      "image/png": "[encoded data removed]",
      "text/plain": [
       "<Figure size 432x288 with 1 Axes>"
      ]
     },
     "metadata": {
      "needs_background": "light"
     },
     "output_type": "display_data"
    }
   ],
   "source": [
    "df.plot.scatter(x = \"DISTANCE\", y = \"ARR_DEL15\")"
   ]
  },
  {
   "cell_type": "markdown",
   "metadata": {},
   "source": [
    "### Distance vs. ARR_DEL15"
   ]
  },
  {
   "cell_type": "code",
   "execution_count": 46,
   "metadata": {},
   "outputs": [
    {
     "data": {
      "image/png": "[encoded data removed]",
      "text/plain": [
       "<Figure size 1224x576 with 1 Axes>"
      ]
     },
     "metadata": {
      "needs_background": "light"
     },
     "output_type": "display_data"
    }
   ],
   "source": [
    "plt.figure(figsize = (17,8))\n",
    "# A\n",
    "# YOUR CODE HERE\n",
    "sns.kdeplot(df[\"DISTANCE\"][df.ARR_DEL15 == 1], color = 'r', shade = True)\n",
    "sns.kdeplot(df[\"DISTANCE\"][df.ARR_DEL15 == 0], color = 'b', shade = True)\n",
    "\n",
    "plt.legend(['Delayed', 'In Time'])\n",
    "plt.show()"
   ]
  },
  {
   "cell_type": "markdown",
   "metadata": {},
   "source": [
    "### Number of operated flights vs. ARR_DEL15"
   ]
  },
  {
   "cell_type": "code",
   "execution_count": 47,
   "metadata": {},
   "outputs": [
    {
     "data": {
      "image/png": "[encoded data removed]",
      "text/plain": [
       "<Figure size 1224x576 with 1 Axes>"
      ]
     },
     "metadata": {
      "needs_background": "light"
     },
     "output_type": "display_data"
    }
   ],
   "source": [
    "plt.figure(figsize = (17,8))\n",
    "# A\n",
    "# YOUR CODE HERE\n",
    "sns.kdeplot(df[\"OP_CARRIER_FL_NUM\"][df.ARR_DEL15 == 1], color = 'r', shade = True)\n",
    "sns.kdeplot(df[\"OP_CARRIER_FL_NUM\"][df.ARR_DEL15 == 0], color = 'b', shade = True)\n",
    "\n",
    "plt.legend(['Delayed', 'In Time'])\n",
    "plt.show()"
   ]
  },
  {
   "cell_type": "markdown",
   "metadata": {},
   "source": [
    "## Corr Matrix\n"
   ]
  },
  {
   "cell_type": "code",
   "execution_count": 36,
   "metadata": {},
   "outputs": [
    {
     "data": {
      "text/html": [
       "<div>\n",
       "<style scoped>\n",
       "    .dataframe tbody tr th:only-of-type {\n",
       "        vertical-align: middle;\n",
       "    }\n",
       "\n",
       "    .dataframe tbody tr th {\n",
       "        vertical-align: top;\n",
       "    }\n",
       "\n",
       "    .dataframe thead th {\n",
       "        text-align: right;\n",
       "    }\n",
       "</style>\n",
       "<table border=\"1\" class=\"dataframe\">\n",
       "  <thead>\n",
       "    <tr style=\"text-align: right;\">\n",
       "      <th></th>\n",
       "      <th>ORIGIN_AIRPORT_ID</th>\n",
       "      <th>DEST_AIRPORT_ID</th>\n",
       "      <th>OP_CARRIER_AIRLINE_ID</th>\n",
       "      <th>OP_CARRIER_FL_NUM</th>\n",
       "      <th>DISTANCE</th>\n",
       "      <th>CANCELLED</th>\n",
       "      <th>DEP_DEL15</th>\n",
       "      <th>ARR_DEL15</th>\n",
       "    </tr>\n",
       "  </thead>\n",
       "  <tbody>\n",
       "    <tr>\n",
       "      <th>0</th>\n",
       "      <td>14869</td>\n",
       "      <td>14908</td>\n",
       "      <td>19790</td>\n",
       "      <td>1056</td>\n",
       "      <td>588.0</td>\n",
       "      <td>0</td>\n",
       "      <td>0.0</td>\n",
       "      <td>0</td>\n",
       "    </tr>\n",
       "    <tr>\n",
       "      <th>1</th>\n",
       "      <td>10721</td>\n",
       "      <td>14747</td>\n",
       "      <td>19930</td>\n",
       "      <td>15</td>\n",
       "      <td>2496.0</td>\n",
       "      <td>0</td>\n",
       "      <td>NaN</td>\n",
       "      <td>0</td>\n",
       "    </tr>\n",
       "    <tr>\n",
       "      <th>2</th>\n",
       "      <td>11259</td>\n",
       "      <td>12191</td>\n",
       "      <td>19393</td>\n",
       "      <td>3</td>\n",
       "      <td>239.0</td>\n",
       "      <td>0</td>\n",
       "      <td>NaN</td>\n",
       "      <td>0</td>\n",
       "    </tr>\n",
       "    <tr>\n",
       "      <th>3</th>\n",
       "      <td>15016</td>\n",
       "      <td>11423</td>\n",
       "      <td>19393</td>\n",
       "      <td>1588</td>\n",
       "      <td>259.0</td>\n",
       "      <td>0</td>\n",
       "      <td>0.0</td>\n",
       "      <td>0</td>\n",
       "    </tr>\n",
       "    <tr>\n",
       "      <th>4</th>\n",
       "      <td>11057</td>\n",
       "      <td>10994</td>\n",
       "      <td>20397</td>\n",
       "      <td>5207</td>\n",
       "      <td>168.0</td>\n",
       "      <td>0</td>\n",
       "      <td>NaN</td>\n",
       "      <td>1</td>\n",
       "    </tr>\n",
       "    <tr>\n",
       "      <th>...</th>\n",
       "      <td>...</td>\n",
       "      <td>...</td>\n",
       "      <td>...</td>\n",
       "      <td>...</td>\n",
       "      <td>...</td>\n",
       "      <td>...</td>\n",
       "      <td>...</td>\n",
       "      <td>...</td>\n",
       "    </tr>\n",
       "    <tr>\n",
       "      <th>419482</th>\n",
       "      <td>13891</td>\n",
       "      <td>13796</td>\n",
       "      <td>19393</td>\n",
       "      <td>1475</td>\n",
       "      <td>362.0</td>\n",
       "      <td>0</td>\n",
       "      <td>0.0</td>\n",
       "      <td>0</td>\n",
       "    </tr>\n",
       "    <tr>\n",
       "      <th>419483</th>\n",
       "      <td>11697</td>\n",
       "      <td>12478</td>\n",
       "      <td>20409</td>\n",
       "      <td>1202</td>\n",
       "      <td>1069.0</td>\n",
       "      <td>0</td>\n",
       "      <td>0.0</td>\n",
       "      <td>0</td>\n",
       "    </tr>\n",
       "    <tr>\n",
       "      <th>419484</th>\n",
       "      <td>12266</td>\n",
       "      <td>12889</td>\n",
       "      <td>19977</td>\n",
       "      <td>1044</td>\n",
       "      <td>1222.0</td>\n",
       "      <td>0</td>\n",
       "      <td>0.0</td>\n",
       "      <td>0</td>\n",
       "    </tr>\n",
       "    <tr>\n",
       "      <th>419485</th>\n",
       "      <td>13342</td>\n",
       "      <td>13204</td>\n",
       "      <td>19393</td>\n",
       "      <td>3487</td>\n",
       "      <td>1066.0</td>\n",
       "      <td>0</td>\n",
       "      <td>NaN</td>\n",
       "      <td>0</td>\n",
       "    </tr>\n",
       "    <tr>\n",
       "      <th>419486</th>\n",
       "      <td>14107</td>\n",
       "      <td>15376</td>\n",
       "      <td>20378</td>\n",
       "      <td>5756</td>\n",
       "      <td>NaN</td>\n",
       "      <td>0</td>\n",
       "      <td>NaN</td>\n",
       "      <td>1</td>\n",
       "    </tr>\n",
       "  </tbody>\n",
       "</table>\n",
       "<p>419487 rows × 8 columns</p>\n",
       "</div>"
      ],
      "text/plain": [
       "        ORIGIN_AIRPORT_ID  DEST_AIRPORT_ID  OP_CARRIER_AIRLINE_ID  \\\n",
       "0                   14869            14908                  19790   \n",
       "1                   10721            14747                  19930   \n",
       "2                   11259            12191                  19393   \n",
       "3                   15016            11423                  19393   \n",
       "4                   11057            10994                  20397   \n",
       "...                   ...              ...                    ...   \n",
       "419482              13891            13796                  19393   \n",
       "419483              11697            12478                  20409   \n",
       "419484              12266            12889                  19977   \n",
       "419485              13342            13204                  19393   \n",
       "419486              14107            15376                  20378   \n",
       "\n",
       "        OP_CARRIER_FL_NUM  DISTANCE  CANCELLED  DEP_DEL15  ARR_DEL15  \n",
       "0                    1056     588.0          0        0.0          0  \n",
       "1                      15    2496.0          0        NaN          0  \n",
       "2                       3     239.0          0        NaN          0  \n",
       "3                    1588     259.0          0        0.0          0  \n",
       "4                    5207     168.0          0        NaN          1  \n",
       "...                   ...       ...        ...        ...        ...  \n",
       "419482               1475     362.0          0        0.0          0  \n",
       "419483               1202    1069.0          0        0.0          0  \n",
       "419484               1044    1222.0          0        0.0          0  \n",
       "419485               3487    1066.0          0        NaN          0  \n",
       "419486               5756       NaN          0        NaN          1  \n",
       "\n",
       "[419487 rows x 8 columns]"
      ]
     },
     "metadata": {},
     "output_type": "display_data"
    },
    {
     "data": {
      "image/png": "[encoded data removed]",
      "text/plain": [
       "<Figure size 864x576 with 2 Axes>"
      ]
     },
     "metadata": {
      "needs_background": "light"
     },
     "output_type": "display_data"
    }
   ],
   "source": [
    "display(df[numerical])\n",
    "plt.figure(figsize = (12,8)) # <-- just sets the figure size \n",
    "sns.heatmap(df[numerical].corr(method='pearson'), \n",
    "            annot=True,     # <-- write the numbers on the squares\n",
    "            cmap='RdBu_r'); # <-- use a \"red into blue, reversed\" colormap \n",
    "\n"
   ]
  },
  {
   "cell_type": "markdown",
   "metadata": {},
   "source": [
    "## DUPLICATES!!\n"
   ]
  },
  {
   "cell_type": "code",
   "execution_count": null,
   "metadata": {},
   "outputs": [],
   "source": []
  }
 ],
 "metadata": {
  "kernelspec": {
   "display_name": "Python 3",
   "language": "python",
   "name": "python3"
  },
  "language_info": {
   "codemirror_mode": {
    "name": "ipython",
    "version": 3
   },
   "file_extension": ".py",
   "mimetype": "text/x-python",
   "name": "python",
   "nbconvert_exporter": "python",
   "pygments_lexer": "ipython3",
   "version": "3.8.5"
  }
 },
 "nbformat": 4,
 "nbformat_minor": 4
}
