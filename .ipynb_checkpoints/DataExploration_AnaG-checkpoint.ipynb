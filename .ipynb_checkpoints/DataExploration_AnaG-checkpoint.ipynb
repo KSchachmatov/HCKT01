{
 "cells": [
  {
   "cell_type": "markdown",
   "metadata": {},
   "source": [
    "## Data Inspection"
   ]
  },
  {
   "cell_type": "code",
   "execution_count": 66,
   "metadata": {},
   "outputs": [],
   "source": [
    "import numpy as np\n",
    "import pandas as pd\n",
    "import matplotlib\n",
    "import matplotlib.pyplot as plt\n",
    "import datetime"
   ]
  },
  {
   "cell_type": "code",
   "execution_count": 5,
   "metadata": {},
   "outputs": [
    {
     "name": "stdout",
     "output_type": "stream",
     "text": [
      "shape of train data: (419487, 17)\n",
      "shape of train data: (179781, 16)\n"
     ]
    }
   ],
   "source": [
    "# read the data in\n",
    "\n",
    "data_train = pd.read_csv('data/train.csv')\n",
    "data_test = pd.read_csv('data/test.csv')\n",
    "\n",
    "print(f'shape of train data: {data_train.shape}')\n",
    "print(f'shape of train data: {data_test.shape}')"
   ]
  },
  {
   "cell_type": "code",
   "execution_count": 7,
   "metadata": {},
   "outputs": [
    {
     "name": "stdout",
     "output_type": "stream",
     "text": [
      "columns in train Index(['ID', 'DATE_DEPARTURE_UTC', 'DATE_ARRIVAL_UTC', 'DATE_DEPARTURE_LCL',\n",
      "       'DATE_ARRIVAL_LCL', 'ORIGIN', 'ORIGIN_AIRPORT_ID', 'DEST',\n",
      "       'DEST_AIRPORT_ID', 'TAIL_NUM', 'OP_CARRIER', 'OP_CARRIER_AIRLINE_ID',\n",
      "       'OP_CARRIER_FL_NUM', 'DISTANCE', 'CANCELLED', 'DEP_DEL15', 'ARR_DEL15'],\n",
      "      dtype='object')\n",
      "columns in test Index(['ID', 'DATE_DEPARTURE_UTC', 'DATE_ARRIVAL_UTC', 'DATE_DEPARTURE_LCL',\n",
      "       'DATE_ARRIVAL_LCL', 'ORIGIN', 'ORIGIN_AIRPORT_ID', 'DEST',\n",
      "       'DEST_AIRPORT_ID', 'TAIL_NUM', 'OP_CARRIER', 'OP_CARRIER_AIRLINE_ID',\n",
      "       'OP_CARRIER_FL_NUM', 'DISTANCE', 'CANCELLED', 'DEP_DEL15'],\n",
      "      dtype='object')\n"
     ]
    }
   ],
   "source": [
    "print(f'columns in train {data_train.columns}')\n",
    "print(f'columns in test {data_test.columns}')"
   ]
  },
  {
   "cell_type": "markdown",
   "metadata": {},
   "source": [
    "#### check class imbalance"
   ]
  },
  {
   "cell_type": "code",
   "execution_count": 12,
   "metadata": {},
   "outputs": [
    {
     "data": {
      "text/plain": [
       "0    0.851736\n",
       "1    0.148264\n",
       "Name: ARR_DEL15, dtype: float64"
      ]
     },
     "execution_count": 12,
     "metadata": {},
     "output_type": "execute_result"
    }
   ],
   "source": [
    "data_train.ARR_DEL15.value_counts(normalize = True)"
   ]
  },
  {
   "cell_type": "markdown",
   "metadata": {},
   "source": [
    "#### get categorical and numerical features"
   ]
  },
  {
   "cell_type": "code",
   "execution_count": 81,
   "metadata": {},
   "outputs": [
    {
     "data": {
      "text/plain": [
       "ID                                int64\n",
       "DATE_DEPARTURE_UTC       datetime64[ns]\n",
       "DATE_ARRIVAL_UTC         datetime64[ns]\n",
       "DATE_DEPARTURE_LCL       datetime64[ns]\n",
       "DATE_ARRIVAL_LCL         datetime64[ns]\n",
       "ORIGIN                           object\n",
       "ORIGIN_AIRPORT_ID                 int64\n",
       "DEST                             object\n",
       "DEST_AIRPORT_ID                   int64\n",
       "TAIL_NUM                         object\n",
       "OP_CARRIER                       object\n",
       "OP_CARRIER_AIRLINE_ID             int64\n",
       "OP_CARRIER_FL_NUM                 int64\n",
       "DISTANCE                        float64\n",
       "CANCELLED                         int64\n",
       "DEP_DEL15                       float64\n",
       "ARR_DEL15                         int64\n",
       "dtype: object"
      ]
     },
     "execution_count": 81,
     "metadata": {},
     "output_type": "execute_result"
    }
   ],
   "source": [
    "data_train.dtypes"
   ]
  },
  {
   "cell_type": "code",
   "execution_count": 44,
   "metadata": {},
   "outputs": [],
   "source": [
    "numerical_df = data_train.select_dtypes(include=['int64', 'float64'])"
   ]
  },
  {
   "cell_type": "code",
   "execution_count": 45,
   "metadata": {},
   "outputs": [
    {
     "data": {
      "text/plain": [
       "Index(['ID', 'ORIGIN_AIRPORT_ID', 'DEST_AIRPORT_ID', 'OP_CARRIER_AIRLINE_ID',\n",
       "       'OP_CARRIER_FL_NUM', 'DISTANCE', 'CANCELLED', 'DEP_DEL15', 'ARR_DEL15'],\n",
       "      dtype='object')"
      ]
     },
     "execution_count": 45,
     "metadata": {},
     "output_type": "execute_result"
    }
   ],
   "source": [
    "numerical_df.columns"
   ]
  },
  {
   "cell_type": "markdown",
   "metadata": {},
   "source": [
    "For numerical check:\n",
    "* missing values\n",
    "* distributions and outliers"
   ]
  },
  {
   "cell_type": "code",
   "execution_count": 26,
   "metadata": {},
   "outputs": [
    {
     "data": {
      "text/plain": [
       "419487"
      ]
     },
     "execution_count": 26,
     "metadata": {},
     "output_type": "execute_result"
    }
   ],
   "source": [
    "len(numerical_df.ID.unique()) # ID is unique per line. drop"
   ]
  },
  {
   "cell_type": "code",
   "execution_count": 27,
   "metadata": {},
   "outputs": [
    {
     "data": {
      "text/plain": [
       "351"
      ]
     },
     "execution_count": 27,
     "metadata": {},
     "output_type": "execute_result"
    }
   ],
   "source": [
    "len(numerical_df.ORIGIN_AIRPORT_ID.unique()) # a lot of uniques...how can we group them? drop this col and use ORIGIN"
   ]
  },
  {
   "cell_type": "code",
   "execution_count": 31,
   "metadata": {},
   "outputs": [],
   "source": [
    "#data_train.ORIGIN.unique()"
   ]
  },
  {
   "cell_type": "code",
   "execution_count": 60,
   "metadata": {},
   "outputs": [
    {
     "data": {
      "text/plain": [
       "array([19790, 19930, 19393, 20397, 19805, 20304, 20409, 20452, 20366,\n",
       "       20363, 19977, 20416, 20398, 20378, 20436, 19690, 20368])"
      ]
     },
     "execution_count": 60,
     "metadata": {},
     "output_type": "execute_result"
    }
   ],
   "source": [
    "len(data_train.OP_CARRIER_AIRLINE_ID.unique()) # ok number of uniques"
   ]
  },
  {
   "cell_type": "code",
   "execution_count": 34,
   "metadata": {},
   "outputs": [
    {
     "data": {
      "text/plain": [
       "6715"
      ]
     },
     "execution_count": 34,
     "metadata": {},
     "output_type": "execute_result"
    }
   ],
   "source": [
    "len(data_train.OP_CARRIER_FL_NUM.unique()) # can this have important info? somt flights are always late... \n",
    "#but cardinality is too big"
   ]
  },
  {
   "cell_type": "code",
   "execution_count": 43,
   "metadata": {},
   "outputs": [
    {
     "data": {
      "text/plain": [
       "0    179781\n",
       "Name: CANCELLED, dtype: int64"
      ]
     },
     "execution_count": 43,
     "metadata": {},
     "output_type": "execute_result"
    }
   ],
   "source": [
    "data_train.CANCELLED.value_counts() # no cancelled. all = 0. drop\n",
    "data_test.CANCELLED.value_counts() # no cancelled. all = 0. drop"
   ]
  },
  {
   "cell_type": "code",
   "execution_count": 52,
   "metadata": {},
   "outputs": [
    {
     "data": {
      "text/plain": [
       "17618"
      ]
     },
     "execution_count": 52,
     "metadata": {},
     "output_type": "execute_result"
    }
   ],
   "source": [
    "data_train.DISTANCE.isnull().sum() # 17K flights don't have a distance. fill if available in flight number?"
   ]
  },
  {
   "cell_type": "code",
   "execution_count": 50,
   "metadata": {},
   "outputs": [
    {
     "data": {
      "text/plain": [
       "<matplotlib.axes._subplots.AxesSubplot at 0x7ff78cd13358>"
      ]
     },
     "execution_count": 50,
     "metadata": {},
     "output_type": "execute_result"
    },
    {
     "data": {
      "image/png": "[encoded data removed]",
      "text/plain": [
       "<Figure size 576x396 with 1 Axes>"
      ]
     },
     "metadata": {},
     "output_type": "display_data"
    }
   ],
   "source": [
    "plt.style.use('seaborn')\n",
    "data_train.DISTANCE.plot.hist(bins = 50)"
   ]
  },
  {
   "cell_type": "code",
   "execution_count": 55,
   "metadata": {},
   "outputs": [
    {
     "data": {
      "text/plain": [
       "0.0    232523\n",
       "1.0     40144\n",
       "Name: DEP_DEL15, dtype: int64"
      ]
     },
     "execution_count": 55,
     "metadata": {},
     "output_type": "execute_result"
    }
   ],
   "source": [
    "data_train.DEP_DEL15.value_counts()"
   ]
  },
  {
   "cell_type": "code",
   "execution_count": 53,
   "metadata": {},
   "outputs": [
    {
     "data": {
      "text/plain": [
       "146820"
      ]
     },
     "execution_count": 53,
     "metadata": {},
     "output_type": "execute_result"
    }
   ],
   "source": [
    "data_train.DEP_DEL15.isnull().sum() # 150K flights don't have info. \n",
    "#fill in with prevalent class for that flight number or day..."
   ]
  },
  {
   "cell_type": "markdown",
   "metadata": {},
   "source": [
    "#### lets have a look at the airport codes"
   ]
  },
  {
   "cell_type": "code",
   "execution_count": 151,
   "metadata": {},
   "outputs": [],
   "source": [
    "airport_codes = pd.read_csv('data/iata_airport_codes.csv')"
   ]
  },
  {
   "cell_type": "code",
   "execution_count": 154,
   "metadata": {},
   "outputs": [
    {
     "data": {
      "text/html": [
       "<div>\n",
       "<style scoped>\n",
       "    .dataframe tbody tr th:only-of-type {\n",
       "        vertical-align: middle;\n",
       "    }\n",
       "\n",
       "    .dataframe tbody tr th {\n",
       "        vertical-align: top;\n",
       "    }\n",
       "\n",
       "    .dataframe thead th {\n",
       "        text-align: right;\n",
       "    }\n",
       "</style>\n",
       "<table border=\"1\" class=\"dataframe\">\n",
       "  <thead>\n",
       "    <tr style=\"text-align: right;\">\n",
       "      <th></th>\n",
       "      <th>ident</th>\n",
       "      <th>type</th>\n",
       "      <th>name</th>\n",
       "      <th>elevation_ft</th>\n",
       "      <th>continent</th>\n",
       "      <th>iso_country</th>\n",
       "      <th>iso_region</th>\n",
       "      <th>municipality</th>\n",
       "      <th>gps_code</th>\n",
       "      <th>iata_code</th>\n",
       "      <th>local_code</th>\n",
       "      <th>coordinates</th>\n",
       "    </tr>\n",
       "  </thead>\n",
       "  <tbody>\n",
       "    <tr>\n",
       "      <th>223</th>\n",
       "      <td>03N</td>\n",
       "      <td>small_airport</td>\n",
       "      <td>Utirik Airport</td>\n",
       "      <td>4.0</td>\n",
       "      <td>OC</td>\n",
       "      <td>MH</td>\n",
       "      <td>MH-UTI</td>\n",
       "      <td>Utirik Island</td>\n",
       "      <td>K03N</td>\n",
       "      <td>UTK</td>\n",
       "      <td>03N</td>\n",
       "      <td>11.222, 169.852005</td>\n",
       "    </tr>\n",
       "    <tr>\n",
       "      <th>440</th>\n",
       "      <td>07FA</td>\n",
       "      <td>small_airport</td>\n",
       "      <td>Ocean Reef Club Airport</td>\n",
       "      <td>8.0</td>\n",
       "      <td>NaN</td>\n",
       "      <td>US</td>\n",
       "      <td>US-FL</td>\n",
       "      <td>Key Largo</td>\n",
       "      <td>07FA</td>\n",
       "      <td>OCA</td>\n",
       "      <td>07FA</td>\n",
       "      <td>25.325399398804, -80.274803161621</td>\n",
       "    </tr>\n",
       "    <tr>\n",
       "      <th>594</th>\n",
       "      <td>0AK</td>\n",
       "      <td>small_airport</td>\n",
       "      <td>Pilot Station Airport</td>\n",
       "      <td>305.0</td>\n",
       "      <td>NaN</td>\n",
       "      <td>US</td>\n",
       "      <td>US-AK</td>\n",
       "      <td>Pilot Station</td>\n",
       "      <td>NaN</td>\n",
       "      <td>PQS</td>\n",
       "      <td>0AK</td>\n",
       "      <td>61.934601, -162.899994</td>\n",
       "    </tr>\n",
       "    <tr>\n",
       "      <th>673</th>\n",
       "      <td>0CO2</td>\n",
       "      <td>small_airport</td>\n",
       "      <td>Crested Butte Airpark</td>\n",
       "      <td>8980.0</td>\n",
       "      <td>NaN</td>\n",
       "      <td>US</td>\n",
       "      <td>US-CO</td>\n",
       "      <td>Crested Butte</td>\n",
       "      <td>0CO2</td>\n",
       "      <td>CSE</td>\n",
       "      <td>0CO2</td>\n",
       "      <td>38.851918, -106.928341</td>\n",
       "    </tr>\n",
       "    <tr>\n",
       "      <th>1088</th>\n",
       "      <td>0TE7</td>\n",
       "      <td>small_airport</td>\n",
       "      <td>LBJ Ranch Airport</td>\n",
       "      <td>1515.0</td>\n",
       "      <td>NaN</td>\n",
       "      <td>US</td>\n",
       "      <td>US-TX</td>\n",
       "      <td>Johnson City</td>\n",
       "      <td>0TE7</td>\n",
       "      <td>JCY</td>\n",
       "      <td>0TE7</td>\n",
       "      <td>30.251800537100003, -98.62249755859999</td>\n",
       "    </tr>\n",
       "  </tbody>\n",
       "</table>\n",
       "</div>"
      ],
      "text/plain": [
       "     ident           type                     name  elevation_ft continent  \\\n",
       "223    03N  small_airport           Utirik Airport           4.0        OC   \n",
       "440   07FA  small_airport  Ocean Reef Club Airport           8.0       NaN   \n",
       "594    0AK  small_airport    Pilot Station Airport         305.0       NaN   \n",
       "673   0CO2  small_airport    Crested Butte Airpark        8980.0       NaN   \n",
       "1088  0TE7  small_airport        LBJ Ranch Airport        1515.0       NaN   \n",
       "\n",
       "     iso_country iso_region   municipality gps_code iata_code local_code  \\\n",
       "223           MH     MH-UTI  Utirik Island     K03N       UTK        03N   \n",
       "440           US      US-FL      Key Largo     07FA       OCA       07FA   \n",
       "594           US      US-AK  Pilot Station      NaN       PQS        0AK   \n",
       "673           US      US-CO  Crested Butte     0CO2       CSE       0CO2   \n",
       "1088          US      US-TX   Johnson City     0TE7       JCY       0TE7   \n",
       "\n",
       "                                 coordinates  \n",
       "223                       11.222, 169.852005  \n",
       "440        25.325399398804, -80.274803161621  \n",
       "594                   61.934601, -162.899994  \n",
       "673                   38.851918, -106.928341  \n",
       "1088  30.251800537100003, -98.62249755859999  "
      ]
     },
     "execution_count": 154,
     "metadata": {},
     "output_type": "execute_result"
    }
   ],
   "source": [
    "airport_codes = airport_codes[airport_codes.iata_code.notnull()]\n",
    "airport_codes.head()"
   ]
  },
  {
   "cell_type": "code",
   "execution_count": 157,
   "metadata": {},
   "outputs": [
    {
     "data": {
      "text/plain": [
       "array(['MH', 'US', 'SO', 'PG', 'AD', 'SD', 'AE', 'SS', 'ES', 'CN', 'AF',\n",
       "       'LK', 'SB', 'AU', 'MG', 'TD', 'MX', 'MZ', 'NR', 'AO', 'AR', 'AS',\n",
       "       'GA', 'AZ', 'DE', 'BG', 'GL', 'IS', 'OM', 'XK', 'KE', 'PH', 'BO',\n",
       "       'BR', 'BS', 'CV', 'BW', 'FJ', 'LR', 'BZ', 'CA', 'CG', 'MR', 'CO',\n",
       "       'CU', 'CY', 'PA', 'DZ', 'BJ', 'ID', 'BF', 'GH', 'RU', 'CI', 'NG',\n",
       "       'NE', 'TN', 'TG', 'BE', 'EC', 'EE', 'FI', 'EG', 'GB', 'GG', 'JE',\n",
       "       'IM', 'FK', 'NL', 'IE', 'DK', 'FO', 'LU', 'NO', 'PL', 'MN', 'SE',\n",
       "       'ET', 'LV', 'LT', 'ZA', 'SZ', 'CF', 'GQ', 'SH', 'MU', 'IO', 'CM',\n",
       "       'ZM', 'FM', 'KM', 'YT', 'RE', 'ST', 'FR', 'SC', 'ZW', 'MW', 'LS',\n",
       "       nan, 'CD', 'ML', 'GM', 'SL', 'GW', 'MA', 'EH', 'SN', 'GT', 'TZ',\n",
       "       'GN', 'GY', 'SR', 'BI', 'DJ', 'ER', 'LY', 'HN', 'VN', 'KZ', 'RW',\n",
       "       'UG', 'TL', 'IN', 'IR', 'JP', 'IT'], dtype=object)"
      ]
     },
     "execution_count": 157,
     "metadata": {},
     "output_type": "execute_result"
    }
   ],
   "source": [
    "airport_codes.iso_country.unique()"
   ]
  },
  {
   "cell_type": "markdown",
   "metadata": {},
   "source": [
    "# Date features"
   ]
  },
  {
   "cell_type": "code",
   "execution_count": 80,
   "metadata": {},
   "outputs": [],
   "source": [
    "data_train['DATE_DEPARTURE_UTC'] = pd.to_datetime(data_train['DATE_DEPARTURE_UTC'])\n",
    "data_train['DATE_ARRIVAL_UTC'] = pd.to_datetime(data_train['DATE_ARRIVAL_UTC'])\n",
    "data_train['DATE_DEPARTURE_LCL'] = pd.to_datetime(data_train['DATE_DEPARTURE_LCL'])\n",
    "data_train['DATE_ARRIVAL_LCL'] = pd.to_datetime(data_train['DATE_ARRIVAL_LCL'])"
   ]
  },
  {
   "cell_type": "code",
   "execution_count": 82,
   "metadata": {},
   "outputs": [
    {
     "name": "stdout",
     "output_type": "stream",
     "text": [
      "DATE_DEPARTURE_UTC\n",
      "date range for train data: 2019-12-31 21:55:00 to 2020-01-23 01:26:00\n",
      "date range for test data: 2020-01-23 01:26:00 to 2020-02-01 09:42:00\n",
      "DATE_ARRIVAL_UTC\n",
      "date range for train data: 2019-12-31 22:54:00 to 2020-01-23 09:15:00\n",
      "date range for test data: 2020-01-23 02:05:00 to 2020-02-01 14:57:00\n",
      "DATE_DEPARTURE_LCL\n",
      "date range for train data: 2020-01-01 00:01:00 to 2020-01-23 08:58:00\n",
      "date range for test data: 2020-01-22 15:26:00 to 2020-01-31 23:59:00\n",
      "DATE_ARRIVAL_LCL\n",
      "date range for train data: 2019-12-31 18:51:00 to 2020-01-23 19:15:00\n",
      "date range for test data: 2020-01-22 16:05:00 to 2020-02-01 19:38:00\n"
     ]
    }
   ],
   "source": [
    "print('DATE_DEPARTURE_UTC')\n",
    "print(f'date range for train data: {data_train.DATE_DEPARTURE_UTC.min()} to {data_train.DATE_DEPARTURE_UTC.max()}')\n",
    "print(f'date range for test data: {data_test.DATE_DEPARTURE_UTC.min()} to {data_test.DATE_DEPARTURE_UTC.max()}')\n",
    "\n",
    "print('DATE_ARRIVAL_UTC')\n",
    "print(f'date range for train data: {data_train.DATE_ARRIVAL_UTC.min()} to {data_train.DATE_ARRIVAL_UTC.max()}')\n",
    "print(f'date range for test data: {data_test.DATE_ARRIVAL_UTC.min()} to {data_test.DATE_ARRIVAL_UTC.max()}')\n",
    "\n",
    "print('DATE_DEPARTURE_LCL')\n",
    "print(f'date range for train data: {data_train.DATE_DEPARTURE_LCL.min()} to {data_train.DATE_DEPARTURE_LCL.max()}')\n",
    "print(f'date range for test data: {data_test.DATE_DEPARTURE_LCL.min()} to {data_test.DATE_DEPARTURE_LCL.max()}')\n",
    "\n",
    "print('DATE_ARRIVAL_LCL')\n",
    "print(f'date range for train data: {data_train.DATE_ARRIVAL_LCL.min()} to {data_train.DATE_ARRIVAL_LCL.max()}')\n",
    "print(f'date range for test data: {data_test.DATE_ARRIVAL_LCL.min()} to {data_test.DATE_ARRIVAL_LCL.max()}')"
   ]
  },
  {
   "cell_type": "markdown",
   "metadata": {},
   "source": [
    "How to extract useful features from dates\n",
    "https://towardsdatascience.com/extracting-features-from-dates-fbb7f19972fd"
   ]
  },
  {
   "cell_type": "code",
   "execution_count": 89,
   "metadata": {},
   "outputs": [],
   "source": [
    "data_train_dates = data_train.copy()"
   ]
  },
  {
   "cell_type": "code",
   "execution_count": 109,
   "metadata": {},
   "outputs": [
    {
     "data": {
      "text/html": [
       "<div>\n",
       "<style scoped>\n",
       "    .dataframe tbody tr th:only-of-type {\n",
       "        vertical-align: middle;\n",
       "    }\n",
       "\n",
       "    .dataframe tbody tr th {\n",
       "        vertical-align: top;\n",
       "    }\n",
       "\n",
       "    .dataframe thead th {\n",
       "        text-align: right;\n",
       "    }\n",
       "</style>\n",
       "<table border=\"1\" class=\"dataframe\">\n",
       "  <thead>\n",
       "    <tr style=\"text-align: right;\">\n",
       "      <th></th>\n",
       "      <th>ID</th>\n",
       "      <th>DATE_DEPARTURE_UTC</th>\n",
       "      <th>DATE_ARRIVAL_UTC</th>\n",
       "      <th>DATE_DEPARTURE_LCL</th>\n",
       "      <th>DATE_ARRIVAL_LCL</th>\n",
       "      <th>ORIGIN</th>\n",
       "      <th>ORIGIN_AIRPORT_ID</th>\n",
       "      <th>DEST</th>\n",
       "      <th>DEST_AIRPORT_ID</th>\n",
       "      <th>TAIL_NUM</th>\n",
       "      <th>...</th>\n",
       "      <th>month</th>\n",
       "      <th>day</th>\n",
       "      <th>hour</th>\n",
       "      <th>minute</th>\n",
       "      <th>dayofyear</th>\n",
       "      <th>weekofyear</th>\n",
       "      <th>dayofweek</th>\n",
       "      <th>quarter</th>\n",
       "      <th>is_weekend</th>\n",
       "      <th>duration</th>\n",
       "    </tr>\n",
       "  </thead>\n",
       "  <tbody>\n",
       "    <tr>\n",
       "      <th>0</th>\n",
       "      <td>345355</td>\n",
       "      <td>2020-01-18 22:10:00</td>\n",
       "      <td>2020-01-18 23:59:00</td>\n",
       "      <td>2020-01-18 15:10:00</td>\n",
       "      <td>2020-01-18 15:59:00</td>\n",
       "      <td>SLC</td>\n",
       "      <td>14869</td>\n",
       "      <td>SNA</td>\n",
       "      <td>14908</td>\n",
       "      <td>N128DU</td>\n",
       "      <td>...</td>\n",
       "      <td>1</td>\n",
       "      <td>18</td>\n",
       "      <td>22</td>\n",
       "      <td>10</td>\n",
       "      <td>18</td>\n",
       "      <td>3</td>\n",
       "      <td>5</td>\n",
       "      <td>1</td>\n",
       "      <td>1</td>\n",
       "      <td>109.0</td>\n",
       "    </tr>\n",
       "    <tr>\n",
       "      <th>1</th>\n",
       "      <td>323447</td>\n",
       "      <td>2020-01-17 21:47:00</td>\n",
       "      <td>2020-01-18 04:10:00</td>\n",
       "      <td>2020-01-17 16:47:00</td>\n",
       "      <td>2020-01-17 20:10:00</td>\n",
       "      <td>BOS</td>\n",
       "      <td>10721</td>\n",
       "      <td>SEA</td>\n",
       "      <td>14747</td>\n",
       "      <td>N486AS</td>\n",
       "      <td>...</td>\n",
       "      <td>1</td>\n",
       "      <td>17</td>\n",
       "      <td>21</td>\n",
       "      <td>47</td>\n",
       "      <td>17</td>\n",
       "      <td>3</td>\n",
       "      <td>4</td>\n",
       "      <td>1</td>\n",
       "      <td>0</td>\n",
       "      <td>383.0</td>\n",
       "    </tr>\n",
       "    <tr>\n",
       "      <th>2</th>\n",
       "      <td>242237</td>\n",
       "      <td>2020-01-13 13:26:00</td>\n",
       "      <td>2020-01-13 14:26:00</td>\n",
       "      <td>2020-01-13 07:26:00</td>\n",
       "      <td>2020-01-13 08:26:00</td>\n",
       "      <td>DAL</td>\n",
       "      <td>11259</td>\n",
       "      <td>HOU</td>\n",
       "      <td>12191</td>\n",
       "      <td>N901WN</td>\n",
       "      <td>...</td>\n",
       "      <td>1</td>\n",
       "      <td>13</td>\n",
       "      <td>13</td>\n",
       "      <td>26</td>\n",
       "      <td>13</td>\n",
       "      <td>3</td>\n",
       "      <td>0</td>\n",
       "      <td>1</td>\n",
       "      <td>0</td>\n",
       "      <td>60.0</td>\n",
       "    </tr>\n",
       "    <tr>\n",
       "      <th>3</th>\n",
       "      <td>271408</td>\n",
       "      <td>2020-01-15 02:45:00</td>\n",
       "      <td>2020-01-15 03:37:00</td>\n",
       "      <td>2020-01-14 20:45:00</td>\n",
       "      <td>2020-01-14 21:37:00</td>\n",
       "      <td>STL</td>\n",
       "      <td>15016</td>\n",
       "      <td>DSM</td>\n",
       "      <td>11423</td>\n",
       "      <td>N778SW</td>\n",
       "      <td>...</td>\n",
       "      <td>1</td>\n",
       "      <td>15</td>\n",
       "      <td>2</td>\n",
       "      <td>45</td>\n",
       "      <td>15</td>\n",
       "      <td>3</td>\n",
       "      <td>2</td>\n",
       "      <td>1</td>\n",
       "      <td>0</td>\n",
       "      <td>52.0</td>\n",
       "    </tr>\n",
       "    <tr>\n",
       "      <th>4</th>\n",
       "      <td>282447</td>\n",
       "      <td>2020-01-15 23:22:00</td>\n",
       "      <td>2020-01-16 00:49:00</td>\n",
       "      <td>2020-01-15 18:22:00</td>\n",
       "      <td>2020-01-15 19:49:00</td>\n",
       "      <td>CLT</td>\n",
       "      <td>11057</td>\n",
       "      <td>CHS</td>\n",
       "      <td>10994</td>\n",
       "      <td>N579NN</td>\n",
       "      <td>...</td>\n",
       "      <td>1</td>\n",
       "      <td>15</td>\n",
       "      <td>23</td>\n",
       "      <td>22</td>\n",
       "      <td>15</td>\n",
       "      <td>3</td>\n",
       "      <td>2</td>\n",
       "      <td>1</td>\n",
       "      <td>0</td>\n",
       "      <td>87.0</td>\n",
       "    </tr>\n",
       "  </tbody>\n",
       "</table>\n",
       "<p>5 rows × 28 columns</p>\n",
       "</div>"
      ],
      "text/plain": [
       "       ID  DATE_DEPARTURE_UTC    DATE_ARRIVAL_UTC  DATE_DEPARTURE_LCL  \\\n",
       "0  345355 2020-01-18 22:10:00 2020-01-18 23:59:00 2020-01-18 15:10:00   \n",
       "1  323447 2020-01-17 21:47:00 2020-01-18 04:10:00 2020-01-17 16:47:00   \n",
       "2  242237 2020-01-13 13:26:00 2020-01-13 14:26:00 2020-01-13 07:26:00   \n",
       "3  271408 2020-01-15 02:45:00 2020-01-15 03:37:00 2020-01-14 20:45:00   \n",
       "4  282447 2020-01-15 23:22:00 2020-01-16 00:49:00 2020-01-15 18:22:00   \n",
       "\n",
       "     DATE_ARRIVAL_LCL ORIGIN  ORIGIN_AIRPORT_ID DEST  DEST_AIRPORT_ID  \\\n",
       "0 2020-01-18 15:59:00    SLC              14869  SNA            14908   \n",
       "1 2020-01-17 20:10:00    BOS              10721  SEA            14747   \n",
       "2 2020-01-13 08:26:00    DAL              11259  HOU            12191   \n",
       "3 2020-01-14 21:37:00    STL              15016  DSM            11423   \n",
       "4 2020-01-15 19:49:00    CLT              11057  CHS            10994   \n",
       "\n",
       "  TAIL_NUM  ... month  day  hour  minute  dayofyear  weekofyear  dayofweek  \\\n",
       "0   N128DU  ...     1   18    22      10         18           3          5   \n",
       "1   N486AS  ...     1   17    21      47         17           3          4   \n",
       "2   N901WN  ...     1   13    13      26         13           3          0   \n",
       "3   N778SW  ...     1   15     2      45         15           3          2   \n",
       "4   N579NN  ...     1   15    23      22         15           3          2   \n",
       "\n",
       "   quarter  is_weekend  duration  \n",
       "0        1           1     109.0  \n",
       "1        1           0     383.0  \n",
       "2        1           0      60.0  \n",
       "3        1           0      52.0  \n",
       "4        1           0      87.0  \n",
       "\n",
       "[5 rows x 28 columns]"
      ]
     },
     "execution_count": 109,
     "metadata": {},
     "output_type": "execute_result"
    }
   ],
   "source": [
    "data_train_dates['year'] = data_train_dates.DATE_DEPARTURE_UTC.dt.year\n",
    "data_train_dates['month'] = data_train_dates.DATE_DEPARTURE_UTC.dt.month\n",
    "data_train_dates['day'] = data_train_dates.DATE_DEPARTURE_UTC.dt.day\n",
    "data_train_dates['hour'] = data_train_dates.DATE_DEPARTURE_UTC.dt.hour\n",
    "data_train_dates['minute'] = data_train_dates.DATE_DEPARTURE_UTC.dt.minute\n",
    "data_train_dates['dayofyear'] = data_train_dates.DATE_DEPARTURE_UTC.dt.dayofyear\n",
    "data_train_dates['weekofyear'] = data_train_dates.DATE_DEPARTURE_UTC.dt.weekofyear\n",
    "data_train_dates['dayofweek'] = data_train_dates.DATE_DEPARTURE_UTC.dt.dayofweek\n",
    "data_train_dates['quarter'] = data_train_dates.DATE_DEPARTURE_UTC.dt.quarter\n",
    "data_train_dates['is_weekend'] = np.where(data_train_dates['dayofweek'].isin([5,6]),1,0)\n",
    "data_train_dates['duration'] = (data_train_dates['DATE_ARRIVAL_UTC'] - data_train_dates['DATE_DEPARTURE_UTC']).dt.seconds/60\n",
    "\n",
    "data_train_dates.head()"
   ]
  },
  {
   "cell_type": "markdown",
   "metadata": {},
   "source": [
    "**NOTES**\n",
    "1. year, month and quarter are probably not useful\n",
    "2. enrich with is_holiday flag\n",
    "3. what about the different timezones? should we consider the UTC or the local?"
   ]
  },
  {
   "cell_type": "code",
   "execution_count": 143,
   "metadata": {},
   "outputs": [
    {
     "data": {
      "text/html": [
       "<div>\n",
       "<style scoped>\n",
       "    .dataframe tbody tr th:only-of-type {\n",
       "        vertical-align: middle;\n",
       "    }\n",
       "\n",
       "    .dataframe tbody tr th {\n",
       "        vertical-align: top;\n",
       "    }\n",
       "\n",
       "    .dataframe thead th {\n",
       "        text-align: right;\n",
       "    }\n",
       "</style>\n",
       "<table border=\"1\" class=\"dataframe\">\n",
       "  <thead>\n",
       "    <tr style=\"text-align: right;\">\n",
       "      <th></th>\n",
       "      <th>sum</th>\n",
       "      <th>count</th>\n",
       "      <th>perc</th>\n",
       "    </tr>\n",
       "    <tr>\n",
       "      <th>year</th>\n",
       "      <th></th>\n",
       "      <th></th>\n",
       "      <th></th>\n",
       "    </tr>\n",
       "  </thead>\n",
       "  <tbody>\n",
       "    <tr>\n",
       "      <th>2019</th>\n",
       "      <td>2</td>\n",
       "      <td>3</td>\n",
       "      <td>66.666667</td>\n",
       "    </tr>\n",
       "    <tr>\n",
       "      <th>2020</th>\n",
       "      <td>62193</td>\n",
       "      <td>419484</td>\n",
       "      <td>14.826072</td>\n",
       "    </tr>\n",
       "  </tbody>\n",
       "</table>\n",
       "</div>"
      ],
      "text/plain": [
       "        sum   count       perc\n",
       "year                          \n",
       "2019      2       3  66.666667\n",
       "2020  62193  419484  14.826072"
      ]
     },
     "execution_count": 143,
     "metadata": {},
     "output_type": "execute_result"
    }
   ],
   "source": [
    "g1 = data_train_dates[['ARR_DEL15', 'year']].groupby(['year']).agg(['sum', 'count'])\n",
    "g1.columns = ['sum', 'count']\n",
    "g1['perc'] = (g1['sum']/g1['count'])*100\n",
    "g1"
   ]
  },
  {
   "cell_type": "code",
   "execution_count": 146,
   "metadata": {},
   "outputs": [
    {
     "data": {
      "text/html": [
       "<div>\n",
       "<style scoped>\n",
       "    .dataframe tbody tr th:only-of-type {\n",
       "        vertical-align: middle;\n",
       "    }\n",
       "\n",
       "    .dataframe tbody tr th {\n",
       "        vertical-align: top;\n",
       "    }\n",
       "\n",
       "    .dataframe thead th {\n",
       "        text-align: right;\n",
       "    }\n",
       "</style>\n",
       "<table border=\"1\" class=\"dataframe\">\n",
       "  <thead>\n",
       "    <tr style=\"text-align: right;\">\n",
       "      <th></th>\n",
       "      <th>sum</th>\n",
       "      <th>count</th>\n",
       "      <th>perc</th>\n",
       "    </tr>\n",
       "    <tr>\n",
       "      <th>hour</th>\n",
       "      <th></th>\n",
       "      <th></th>\n",
       "      <th></th>\n",
       "    </tr>\n",
       "  </thead>\n",
       "  <tbody>\n",
       "    <tr>\n",
       "      <th>0</th>\n",
       "      <td>4266</td>\n",
       "      <td>26516</td>\n",
       "      <td>16.088399</td>\n",
       "    </tr>\n",
       "    <tr>\n",
       "      <th>1</th>\n",
       "      <td>4502</td>\n",
       "      <td>21332</td>\n",
       "      <td>21.104444</td>\n",
       "    </tr>\n",
       "    <tr>\n",
       "      <th>2</th>\n",
       "      <td>3717</td>\n",
       "      <td>17679</td>\n",
       "      <td>21.024945</td>\n",
       "    </tr>\n",
       "    <tr>\n",
       "      <th>3</th>\n",
       "      <td>3115</td>\n",
       "      <td>14252</td>\n",
       "      <td>21.856582</td>\n",
       "    </tr>\n",
       "    <tr>\n",
       "      <th>4</th>\n",
       "      <td>1981</td>\n",
       "      <td>7127</td>\n",
       "      <td>27.795706</td>\n",
       "    </tr>\n",
       "    <tr>\n",
       "      <th>5</th>\n",
       "      <td>1191</td>\n",
       "      <td>4527</td>\n",
       "      <td>26.308814</td>\n",
       "    </tr>\n",
       "    <tr>\n",
       "      <th>6</th>\n",
       "      <td>665</td>\n",
       "      <td>3071</td>\n",
       "      <td>21.654184</td>\n",
       "    </tr>\n",
       "    <tr>\n",
       "      <th>7</th>\n",
       "      <td>433</td>\n",
       "      <td>2362</td>\n",
       "      <td>18.331922</td>\n",
       "    </tr>\n",
       "    <tr>\n",
       "      <th>8</th>\n",
       "      <td>264</td>\n",
       "      <td>1222</td>\n",
       "      <td>21.603928</td>\n",
       "    </tr>\n",
       "    <tr>\n",
       "      <th>9</th>\n",
       "      <td>176</td>\n",
       "      <td>1287</td>\n",
       "      <td>13.675214</td>\n",
       "    </tr>\n",
       "    <tr>\n",
       "      <th>10</th>\n",
       "      <td>422</td>\n",
       "      <td>8430</td>\n",
       "      <td>5.005931</td>\n",
       "    </tr>\n",
       "    <tr>\n",
       "      <th>11</th>\n",
       "      <td>1167</td>\n",
       "      <td>17193</td>\n",
       "      <td>6.787646</td>\n",
       "    </tr>\n",
       "    <tr>\n",
       "      <th>12</th>\n",
       "      <td>1943</td>\n",
       "      <td>20377</td>\n",
       "      <td>9.535260</td>\n",
       "    </tr>\n",
       "    <tr>\n",
       "      <th>13</th>\n",
       "      <td>2328</td>\n",
       "      <td>23184</td>\n",
       "      <td>10.041408</td>\n",
       "    </tr>\n",
       "    <tr>\n",
       "      <th>14</th>\n",
       "      <td>2495</td>\n",
       "      <td>24649</td>\n",
       "      <td>10.122114</td>\n",
       "    </tr>\n",
       "    <tr>\n",
       "      <th>15</th>\n",
       "      <td>2640</td>\n",
       "      <td>23520</td>\n",
       "      <td>11.224490</td>\n",
       "    </tr>\n",
       "    <tr>\n",
       "      <th>16</th>\n",
       "      <td>3088</td>\n",
       "      <td>25880</td>\n",
       "      <td>11.931994</td>\n",
       "    </tr>\n",
       "    <tr>\n",
       "      <th>17</th>\n",
       "      <td>3333</td>\n",
       "      <td>26085</td>\n",
       "      <td>12.777458</td>\n",
       "    </tr>\n",
       "    <tr>\n",
       "      <th>18</th>\n",
       "      <td>3638</td>\n",
       "      <td>25449</td>\n",
       "      <td>14.295257</td>\n",
       "    </tr>\n",
       "    <tr>\n",
       "      <th>19</th>\n",
       "      <td>3608</td>\n",
       "      <td>23391</td>\n",
       "      <td>15.424736</td>\n",
       "    </tr>\n",
       "    <tr>\n",
       "      <th>20</th>\n",
       "      <td>4030</td>\n",
       "      <td>27406</td>\n",
       "      <td>14.704809</td>\n",
       "    </tr>\n",
       "    <tr>\n",
       "      <th>21</th>\n",
       "      <td>4181</td>\n",
       "      <td>24753</td>\n",
       "      <td>16.890882</td>\n",
       "    </tr>\n",
       "    <tr>\n",
       "      <th>22</th>\n",
       "      <td>4376</td>\n",
       "      <td>26676</td>\n",
       "      <td>16.404259</td>\n",
       "    </tr>\n",
       "    <tr>\n",
       "      <th>23</th>\n",
       "      <td>4636</td>\n",
       "      <td>23119</td>\n",
       "      <td>20.052770</td>\n",
       "    </tr>\n",
       "  </tbody>\n",
       "</table>\n",
       "</div>"
      ],
      "text/plain": [
       "       sum  count       perc\n",
       "hour                        \n",
       "0     4266  26516  16.088399\n",
       "1     4502  21332  21.104444\n",
       "2     3717  17679  21.024945\n",
       "3     3115  14252  21.856582\n",
       "4     1981   7127  27.795706\n",
       "5     1191   4527  26.308814\n",
       "6      665   3071  21.654184\n",
       "7      433   2362  18.331922\n",
       "8      264   1222  21.603928\n",
       "9      176   1287  13.675214\n",
       "10     422   8430   5.005931\n",
       "11    1167  17193   6.787646\n",
       "12    1943  20377   9.535260\n",
       "13    2328  23184  10.041408\n",
       "14    2495  24649  10.122114\n",
       "15    2640  23520  11.224490\n",
       "16    3088  25880  11.931994\n",
       "17    3333  26085  12.777458\n",
       "18    3638  25449  14.295257\n",
       "19    3608  23391  15.424736\n",
       "20    4030  27406  14.704809\n",
       "21    4181  24753  16.890882\n",
       "22    4376  26676  16.404259\n",
       "23    4636  23119  20.052770"
      ]
     },
     "execution_count": 146,
     "metadata": {},
     "output_type": "execute_result"
    }
   ],
   "source": [
    "g2 = data_train_dates[['ARR_DEL15', 'hour']].groupby(['hour']).agg(['sum', 'count'])\n",
    "g2.columns = ['sum', 'count']\n",
    "g2['perc'] = (g2['sum']/g2['count'])*100\n",
    "g2"
   ]
  },
  {
   "cell_type": "code",
   "execution_count": 147,
   "metadata": {},
   "outputs": [
    {
     "data": {
      "text/html": [
       "<div>\n",
       "<style scoped>\n",
       "    .dataframe tbody tr th:only-of-type {\n",
       "        vertical-align: middle;\n",
       "    }\n",
       "\n",
       "    .dataframe tbody tr th {\n",
       "        vertical-align: top;\n",
       "    }\n",
       "\n",
       "    .dataframe thead th {\n",
       "        text-align: right;\n",
       "    }\n",
       "</style>\n",
       "<table border=\"1\" class=\"dataframe\">\n",
       "  <thead>\n",
       "    <tr style=\"text-align: right;\">\n",
       "      <th></th>\n",
       "      <th>sum</th>\n",
       "      <th>count</th>\n",
       "      <th>perc</th>\n",
       "    </tr>\n",
       "    <tr>\n",
       "      <th>dayofweek</th>\n",
       "      <th></th>\n",
       "      <th></th>\n",
       "      <th></th>\n",
       "    </tr>\n",
       "  </thead>\n",
       "  <tbody>\n",
       "    <tr>\n",
       "      <th>0</th>\n",
       "      <td>8871</td>\n",
       "      <td>61671</td>\n",
       "      <td>14.384395</td>\n",
       "    </tr>\n",
       "    <tr>\n",
       "      <th>1</th>\n",
       "      <td>6622</td>\n",
       "      <td>58854</td>\n",
       "      <td>11.251572</td>\n",
       "    </tr>\n",
       "    <tr>\n",
       "      <th>2</th>\n",
       "      <td>7064</td>\n",
       "      <td>71119</td>\n",
       "      <td>9.932648</td>\n",
       "    </tr>\n",
       "    <tr>\n",
       "      <th>3</th>\n",
       "      <td>8275</td>\n",
       "      <td>62165</td>\n",
       "      <td>13.311349</td>\n",
       "    </tr>\n",
       "    <tr>\n",
       "      <th>4</th>\n",
       "      <td>10204</td>\n",
       "      <td>60399</td>\n",
       "      <td>16.894319</td>\n",
       "    </tr>\n",
       "    <tr>\n",
       "      <th>5</th>\n",
       "      <td>12397</td>\n",
       "      <td>51542</td>\n",
       "      <td>24.052229</td>\n",
       "    </tr>\n",
       "    <tr>\n",
       "      <th>6</th>\n",
       "      <td>8762</td>\n",
       "      <td>53737</td>\n",
       "      <td>16.305339</td>\n",
       "    </tr>\n",
       "  </tbody>\n",
       "</table>\n",
       "</div>"
      ],
      "text/plain": [
       "             sum  count       perc\n",
       "dayofweek                         \n",
       "0           8871  61671  14.384395\n",
       "1           6622  58854  11.251572\n",
       "2           7064  71119   9.932648\n",
       "3           8275  62165  13.311349\n",
       "4          10204  60399  16.894319\n",
       "5          12397  51542  24.052229\n",
       "6           8762  53737  16.305339"
      ]
     },
     "execution_count": 147,
     "metadata": {},
     "output_type": "execute_result"
    }
   ],
   "source": [
    "g3 = data_train_dates[['ARR_DEL15', 'dayofweek']].groupby(['dayofweek']).agg(['sum', 'count'])\n",
    "g3.columns = ['sum', 'count']\n",
    "g3['perc'] = (g3['sum']/g3['count'])*100\n",
    "g3"
   ]
  },
  {
   "cell_type": "code",
   "execution_count": 148,
   "metadata": {},
   "outputs": [
    {
     "data": {
      "text/html": [
       "<div>\n",
       "<style scoped>\n",
       "    .dataframe tbody tr th:only-of-type {\n",
       "        vertical-align: middle;\n",
       "    }\n",
       "\n",
       "    .dataframe tbody tr th {\n",
       "        vertical-align: top;\n",
       "    }\n",
       "\n",
       "    .dataframe thead th {\n",
       "        text-align: right;\n",
       "    }\n",
       "</style>\n",
       "<table border=\"1\" class=\"dataframe\">\n",
       "  <thead>\n",
       "    <tr style=\"text-align: right;\">\n",
       "      <th></th>\n",
       "      <th>sum</th>\n",
       "      <th>count</th>\n",
       "      <th>perc</th>\n",
       "    </tr>\n",
       "    <tr>\n",
       "      <th>is_weekend</th>\n",
       "      <th></th>\n",
       "      <th></th>\n",
       "      <th></th>\n",
       "    </tr>\n",
       "  </thead>\n",
       "  <tbody>\n",
       "    <tr>\n",
       "      <th>0</th>\n",
       "      <td>41036</td>\n",
       "      <td>314208</td>\n",
       "      <td>13.060139</td>\n",
       "    </tr>\n",
       "    <tr>\n",
       "      <th>1</th>\n",
       "      <td>21159</td>\n",
       "      <td>105279</td>\n",
       "      <td>20.098025</td>\n",
       "    </tr>\n",
       "  </tbody>\n",
       "</table>\n",
       "</div>"
      ],
      "text/plain": [
       "              sum   count       perc\n",
       "is_weekend                          \n",
       "0           41036  314208  13.060139\n",
       "1           21159  105279  20.098025"
      ]
     },
     "execution_count": 148,
     "metadata": {},
     "output_type": "execute_result"
    }
   ],
   "source": [
    "g4 = data_train_dates[['ARR_DEL15', 'is_weekend']].groupby(['is_weekend']).agg(['sum', 'count'])\n",
    "g4.columns = ['sum', 'count']\n",
    "g4['perc'] = (g4['sum']/g4['count'])*100\n",
    "g4"
   ]
  },
  {
   "cell_type": "code",
   "execution_count": 233,
   "metadata": {},
   "outputs": [],
   "source": [
    "def extract_date_stamps(df, date_cols):\n",
    "\n",
    "    for col in date_cols:\n",
    "        df['year_' + col] = df[col].dt.year\n",
    "        df['month_' + col] = df[col].dt.month\n",
    "        df['day_' + col] = df[col].dt.day\n",
    "        df['hour_' + col] = df[col].dt.hour\n",
    "        df['minute_' + col] = df[col].dt.minute\n",
    "        df['dayofyear_' + col] = df[col].dt.dayofyear\n",
    "        df['weekofyear_' + col] = df[col].dt.weekofyear\n",
    "        df['dayofweek_' + col] = df[col].dt.dayofweek\n",
    "        df['quarter_' + col] = df[col].dt.quarter\n",
    "        df['is_weekend_' + col] = np.where(df['dayofweek'].isin([5,6]),1,0)\n",
    "    \n",
    "    df['duration_' + col] = (df[date_cols[1]] - df[date_cols[0]]).dt.seconds/60\n",
    "\n",
    "    return df"
   ]
  },
  {
   "cell_type": "code",
   "execution_count": 235,
   "metadata": {},
   "outputs": [
    {
     "data": {
      "text/plain": [
       "Index(['ID', 'DATE_DEPARTURE_UTC', 'DATE_ARRIVAL_UTC', 'DATE_DEPARTURE_LCL',\n",
       "       'DATE_ARRIVAL_LCL', 'ORIGIN', 'ORIGIN_AIRPORT_ID', 'DEST',\n",
       "       'DEST_AIRPORT_ID', 'TAIL_NUM', 'OP_CARRIER', 'OP_CARRIER_AIRLINE_ID',\n",
       "       'OP_CARRIER_FL_NUM', 'DISTANCE', 'CANCELLED', 'DEP_DEL15', 'ARR_DEL15',\n",
       "       'year', 'month', 'day', 'hour', 'minute', 'dayofyear', 'weekofyear',\n",
       "       'dayofweek', 'quarter', 'is_weekend', 'duration',\n",
       "       'yearDATE_DEPARTURE_LCL', 'yearDATE_ARRIVAL_LCL',\n",
       "       'year_DATE_DEPARTURE_LCL', 'month_DATE_DEPARTURE_LCL',\n",
       "       'day_DATE_DEPARTURE_LCL', 'hour_DATE_DEPARTURE_LCL',\n",
       "       'minute_DATE_DEPARTURE_LCL', 'dayofyear_DATE_DEPARTURE_LCL',\n",
       "       'weekofyear_DATE_DEPARTURE_LCL', 'dayofweek_DATE_DEPARTURE_LCL',\n",
       "       'quarter_DATE_DEPARTURE_LCL', 'is_weekend_DATE_DEPARTURE_LCL',\n",
       "       'year_DATE_ARRIVAL_LCL', 'month_DATE_ARRIVAL_LCL',\n",
       "       'day_DATE_ARRIVAL_LCL', 'hour_DATE_ARRIVAL_LCL',\n",
       "       'minute_DATE_ARRIVAL_LCL', 'dayofyear_DATE_ARRIVAL_LCL',\n",
       "       'weekofyear_DATE_ARRIVAL_LCL', 'dayofweek_DATE_ARRIVAL_LCL',\n",
       "       'quarter_DATE_ARRIVAL_LCL', 'is_weekend_DATE_ARRIVAL_LCL',\n",
       "       'duration_DATE_ARRIVAL_LCL'],\n",
       "      dtype='object')"
      ]
     },
     "execution_count": 235,
     "metadata": {},
     "output_type": "execute_result"
    }
   ],
   "source": [
    "date_cols = ['DATE_DEPARTURE_LCL', 'DATE_ARRIVAL_LCL']\n",
    "\n",
    "mydata = extract_date_stamps(data_train, date_cols)\n",
    "mydata.columns"
   ]
  },
  {
   "cell_type": "markdown",
   "metadata": {},
   "source": [
    "### feature engineering with dates"
   ]
  },
  {
   "cell_type": "code",
   "execution_count": 236,
   "metadata": {},
   "outputs": [],
   "source": [
    "def date_feature_engineering(df, my_cols, date_cols):\n",
    "    \n",
    "    combo_cols = []\n",
    "    for i in date_cols:\n",
    "        for j in my_cols:\n",
    "            combo = j + '_' + i\n",
    "            combo_cols.append(combo)\n",
    "    \n",
    "    for combo in combo_cols:\n",
    "        df_ = df[['ARR_DEL15', col]].groupby([col]).agg(['sum', 'count'])\n",
    "        df_.columns = ['sum', 'count']\n",
    "        new_col = 'mean_delay_per' + col\n",
    "        df_[new_col] = df_['sum']/df_['count']\n",
    "        df_ = df_.drop(['sum', 'count'], axis=1)\n",
    "        df_ = df_.reset_index()\n",
    "        df = df_.set_index(col).join(df.set_index(col))     \n",
    "        \n",
    "    return(df)   "
   ]
  },
  {
   "cell_type": "code",
   "execution_count": null,
   "metadata": {},
   "outputs": [],
   "source": []
  }
 ],
 "metadata": {
  "kernelspec": {
   "display_name": "Python 3",
   "language": "python",
   "name": "python3"
  },
  "language_info": {
   "codemirror_mode": {
    "name": "ipython",
    "version": 3
   },
   "file_extension": ".py",
   "mimetype": "text/x-python",
   "name": "python",
   "nbconvert_exporter": "python",
   "pygments_lexer": "ipython3",
   "version": "3.7.3"
  }
 },
 "nbformat": 4,
 "nbformat_minor": 4
}
